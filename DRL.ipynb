{
  "cells": [
    {
      "cell_type": "code",
      "execution_count": null,
      "metadata": {
        "id": "hqpI40QKGkmR"
      },
      "outputs": [],
      "source": [
        "import numpy as np\n",
        "import pyparsing as pp\n",
        "import copy\n",
        "import gym\n",
        "import math\n",
        "import random\n",
        "from collections import namedtuple, deque\n",
        "# from estimator import cost_estimate\n",
        "# from env import env\n",
        "import torch\n",
        "import torch.nn as nn\n",
        "import torch.optim as optim\n",
        "from matplotlib.pyplot import plot\n",
        "import yaml"
      ]
    },
    {
      "cell_type": "markdown",
      "metadata": {
        "id": "bL_-zqjXEmq_"
      },
      "source": [
        "# estimator"
      ]
    },
    {
      "cell_type": "code",
      "execution_count": null,
      "metadata": {
        "id": "fTCLxw4RES-2"
      },
      "outputs": [],
      "source": [
        "PRINT_TOGGLE=False\n",
        "# scale=2320515 #without cache\n",
        "# scale=1\n",
        "scale =412622 # with cache\n",
        "test_cost=[]\n",
        "table_column_name = pp.Word(pp.alphas+pp.nums+'_* \"')\n",
        "\n",
        "single_hash_cond = table_column_name + '.' + table_column_name \\\n",
        "  + '=' + table_column_name + '.' + table_column_name\n",
        "single_hash_cond = single_hash_cond('cond*')\n",
        "\n",
        "multi_cond = '(' + single_hash_cond +')' + pp.OneOrMore(pp.Literal('AND') + \\\n",
        "  pp.Literal('(') + single_hash_cond + ')')\n",
        "hash_cond_parser = '(' + pp.Or([single_hash_cond, multi_cond]) + ')'\n",
        "\n",
        "def simple_repr(plan):\n",
        "  node_type = plan['Node Type']\n",
        "  mapping = dict([\n",
        "    ('Hash Join', 'Hash Cond'),\n",
        "    ('Merge Join', 'Merge Cond'),\n",
        "    ('Nested Loop', 'Join Filter')\n",
        "  ])\n",
        "  return '[{}]/[{}]({}..{}): {}'.format(node_type, plan.get('Join Type'), \\\n",
        "    plan.get('Startup Cost'), plan.get('Total Cost'), plan.get(mapping.get(node_type)))\n",
        "class estimator():\n",
        "  def __init__(self,db,greedy=False) -> None:\n",
        "    if greedy:\n",
        "      self.env_cache=db\n",
        "    else:\n",
        "      self.env_cache=copy.deepcopy(db)\n",
        "      # self.env_cache=db\n",
        "      # self.greedy=greedy\n",
        "  def _estimate_network_cost(self,plan, num_nodes, alias_dict):\n",
        "    if 'Plans' in plan:\n",
        "      children_costs = list()\n",
        "      for subnode in plan['Plans']:\n",
        "        cost=self._estimate_network_cost(subnode, num_nodes, alias_dict)\n",
        "        children_costs.append(cost)\n",
        "\n",
        "      # children_costs.append(_estimate_network_cost(subnode, env, num_nodes, alias_dict))\n",
        "      current_cost = self.estimate_network_cost_for_single_plan_node(plan, num_nodes, alias_dict) \n",
        "      # current_cost = estimate_network_cost_for_single_plan_node(plan, env, num_nodes, alias_dict) \n",
        "      return (sum(children_costs) + current_cost)\n",
        "    else:\n",
        "      # cost = # rows * width\n",
        "      return 0\n",
        "\n",
        "  def estimate_network_cost_for_single_plan_node(self,plan,num_nodes, alias_dict):\n",
        "    name = plan['Node Type']\n",
        "    if 'Join' in name:\n",
        "      if PRINT_TOGGLE:\n",
        "        print('computing cost for ', simple_repr(plan))\n",
        "      sub_costs = list()\n",
        "      for subplan in plan['Plans']:\n",
        "        if subplan['Parent Relationship'] not in ['Outer', 'Inner']:\n",
        "          continue\n",
        "        sub_cost = subplan['Plan Rows'] * subplan['Plan Width']\n",
        "        sub_costs.append(sub_cost)\n",
        "      # let's estimate\n",
        "      # parse details.\n",
        "      # find hash cond \n",
        "      cost = None\n",
        "      if name == 'Hash Join': # hash left/right/semi join\n",
        "        cost = self.estimate_hash_join_cost(plan, sub_costs,num_nodes, alias_dict)\n",
        "      elif name.startswith('Merge'): # merge left/right/full join\n",
        "        print('Merge')\n",
        "      #   cost = estimate_merge_join_cost(plan, sub_costs, partition_scheme, num_nodes)\n",
        "      elif name.startswith('Nested Loop'): # nested loop anti/left/semi join\n",
        "        print('Nested Loop')\n",
        "        # cost = estimate_nested_loop_join_cost(plan, sub_costs, partition_scheme, num_nodes)\n",
        "      else:\n",
        "        assert False, 'Join type [{}] is not handled'.format(name)\n",
        "      if PRINT_TOGGLE:\n",
        "        print('cost:', cost)\n",
        "      return cost\n",
        "    elif 'Nested Loop' in name:\n",
        "      if PRINT_TOGGLE:\n",
        "        print('computing cost for ', simple_repr(plan))\n",
        "      # TODO: FIXME: we currently perform a repatitioned join; could be optimized.\n",
        "      sub_costs = list()\n",
        "      for subplan in plan['Plans']:\n",
        "        cost = subplan['Plan Rows'] * subplan['Plan Width']\n",
        "        sub_costs.append(cost)\n",
        "      cost = sum(sub_costs)\n",
        "      if PRINT_TOGGLE:\n",
        "        print('cost:', cost)\n",
        "      return cost\n",
        "    # elif 'Append' in name:\n",
        "    #   # TODO: FIXME: we may need to consider the result as a temporal table and distribute it.\n",
        "    #   # append node, assume no network cost\n",
        "    #   return 0\n",
        "    else:\n",
        "      if PRINT_TOGGLE:\n",
        "        print('ignore node ', simple_repr(plan))\n",
        "      sub_plans = plan['Plans']\n",
        "      sub_plans = list(filter(lambda x: x['Parent Relationship'] == 'Outer', sub_plans))\n",
        "      # assert only one node. ()\n",
        "      assert len(sub_plans) <= 1, \\\n",
        "        'expecting only one child, but got {}; \\n{}'.format(len(sub_plans), plan)\n",
        "      return 0\n",
        "  def estimate_hash_join_cost(self,plan, sub_costs, num_nodes, alias_dict=None):\n",
        "    # print('parsing', cond_str, sub_costs)\n",
        "    cond_str = plan['Hash Cond']\n",
        "    matched_arr = hash_cond_parser.parseString(cond_str)\n",
        "    conditions = matched_arr.asDict()['cond']\n",
        "    # multiple conditions\n",
        "    table_column_list_dict = {}\n",
        "    left_table, right_table = None, None\n",
        "    for cond in conditions:\n",
        "      left_table, left_column = cond[0].strip(), cond[2].strip()\n",
        "      right_table, right_column = cond[4].strip(), cond[6].strip()\n",
        "      if left_table not in table_column_list_dict:\n",
        "        table_column_list_dict[left_table]=[]\n",
        "      if right_table not in table_column_list_dict:\n",
        "        table_column_list_dict[right_table]=[]\n",
        "      table_column_list_dict[left_table].append(left_column)\n",
        "      table_column_list_dict[right_table].append(right_column)\n",
        "      # print(left_table,right_table)\n",
        "    # exit()\n",
        "    assert len(table_column_list_dict) == 2, \\\n",
        "      'Too many tables! expecting 2 but got [{}:{}]'.format(len(table_column_list_dict), table_column_list_dict.keys())\n",
        "    assert len(table_column_list_dict[left_table]) == len(conditions), 'assertion failed'\n",
        "    assert len(table_column_list_dict[right_table]) == len(conditions), 'assertion failed'\n",
        "    left_join_columns = set(table_column_list_dict[left_table])\n",
        "    right_join_columns = set(table_column_list_dict[right_table])\n",
        "\n",
        "    is_left_partitioned=True\n",
        "    is_right_partitioned=True\n",
        "    # TODO some attrs are partitioned keys, while others are not? In general, hash join has only two participants\n",
        "    for attr in left_join_columns:\n",
        "      if self.env_cache.partition_scheme[left_table][attr]==0:\n",
        "        is_left_partitioned=False\n",
        "        break\n",
        "    for attr in right_join_columns:\n",
        "      if self.env_cache.partition_scheme[right_table][attr]==0:\n",
        "        is_right_partitioned=False\n",
        "        break\n",
        "    # print(left_join_columns,left_table)\n",
        "\n",
        "    is_left_replicated = self.env_cache.replicated_table[left_table]\n",
        "    is_right_replicated = self.env_cache.replicated_table[right_table]\n",
        "    # print(left_table, left_join_columns, right_table, right_join_columns)\n",
        "    # print('left, right', is_left_partitioned, is_right_partitioned)\n",
        "    left_cost, right_cost = sub_costs\n",
        "    # print(left_cost,right_cost)\n",
        "\n",
        "    ## SEPARATE ESTIMATION\n",
        "    if (is_left_partitioned and is_right_partitioned) or \\\n",
        "    (is_left_replicated and is_right_partitioned) or\\\n",
        "        (is_left_partitioned and is_right_replicated):\n",
        "      # okay!\n",
        "      if PRINT_TOGGLE:\n",
        "        print('co-partitioned', is_left_partitioned, is_right_partitioned)\n",
        "          # is_left_replicated, is_right_replicated)\n",
        "      return 0\n",
        "    else:\n",
        "      left_colocated_cost=0 if is_left_partitioned else left_cost\n",
        "      right_colocated_cost=0 if is_right_partitioned else right_cost\n",
        "      left_broadcast_join = 0 if is_left_replicated else left_cost*num_nodes\n",
        "      right_broadcast_join = 0 if is_right_replicated else right_cost*num_nodes\n",
        "      repartitioned_join_cost=left_colocated_cost+right_colocated_cost     \n",
        "      broadcast_join = min(left_broadcast_join, right_broadcast_join)\n",
        "      if PRINT_TOGGLE:\n",
        "        print('repartition', repartitioned_join_cost, 'broadcast', broadcast_join)\n",
        "      if broadcast_join < repartitioned_join_cost:\n",
        "        # add broadcast \n",
        "        if left_cost < right_cost:\n",
        "          # add left\n",
        "          if not is_left_replicated and left_table!='lineorder':\n",
        "            self.env_cache.replicated_table[left_table]=1\n",
        "        else:\n",
        "          # add right\n",
        "          if not is_right_replicated and right_table!='lineorder':\n",
        "            # partition_scheme.add_scheme(right_table, replicate=True)\n",
        "            self.env_cache.replicated_table[right_table]=1\n",
        "            # print('right broadcasted')\n",
        "        if PRINT_TOGGLE:\n",
        "          print('select broadcast join')\n",
        "      else:\n",
        "        # repartition join, add both schemes\n",
        "        if not is_left_partitioned:\n",
        "          # self.env_cache.partition((left_table,left_join_columns))\n",
        "          for col in left_join_columns:\n",
        "            self.env_cache.partition_scheme[left_table][col]=1\n",
        "          # partition_scheme.add_scheme(left_table, column_set=set(left_join_columns))\n",
        "        if not is_right_partitioned:\n",
        "          for col in right_join_columns:\n",
        "            self.env_cache.partition_scheme[right_table][col]=1\n",
        "          # partition_scheme.add_scheme(right_table, column_set=set(right_join_columns))\n",
        "        if PRINT_TOGGLE:\n",
        "          print('select repartition join')\n",
        "\n",
        "      return min(repartitioned_join_cost, broadcast_join)\n",
        "import json,os\n",
        "def cost_estimate(env,greedy):\n",
        "  costs=[]\n",
        "  root='demo/'\n",
        "  e=estimator(env,greedy)\n",
        "  files=['q1-1.json','q1-2.json','q1-3.json',\\\n",
        "         'q2-1.json','q2-2.json','q2-3.json',\\\n",
        "         'q3-1.json','q3-2.json','q3-3.json',\\\n",
        "         'q4-1.json','q4-2.json','q4-3.json']\n",
        "  for file in files:\n",
        "    with open(os.path.join(root,file)) as fp:\n",
        "      plan=json.load(fp)\n",
        "      # costs.append(e._estimate_network_cost(plan[0][0][0]['Plan'],2,0))\n",
        "      cost=e._estimate_network_cost(plan[0][0][0]['Plan'],2,0)\n",
        "      costs.append(cost)\n",
        "      # print(file)\n",
        "      # print(cost)\n",
        "      # print(_estimate_network_cost(plan[0][0][0]['Plan'],db.partition_scheme,0,0)) \n",
        "      fp.close()\n",
        "  return -np.array([sum(costs)])/scale\n"
      ]
    },
    {
      "cell_type": "code",
      "execution_count": null,
      "metadata": {
        "colab": {
          "base_uri": "https://localhost:8080/"
        },
        "id": "oZvrBZBkGbTV",
        "outputId": "7b7f50f4-ef55-4624-92c9-a25f009f6014"
      },
      "outputs": [
        {
          "name": "stdout",
          "output_type": "stream",
          "text": [
            "[-0.99633563]\n"
          ]
        }
      ],
      "source": [
        "# from env import env\n",
        "# if __name__ == \"__main__\":\n",
        "db=env()\n",
        "# db.replicated_table['part']=1\n",
        "db.partition_scheme['lineorder']['lo_suppkey']=1\n",
        "# db.partition_scheme['supplier']['s_suppkey']=1\n",
        "#   db.partition_scheme['part']['p_partkey']=1\n",
        "#   db.partition_scheme['customer']['c_custkey']=1\n",
        "#   db.partition_scheme['dim_date']['d_year']=1 \n",
        "\n",
        "print(cost_estimate(db,False))"
      ]
    },
    {
      "cell_type": "markdown",
      "metadata": {
        "id": "aBd9MWlnErx9"
      },
      "source": [
        "# env"
      ]
    },
    {
      "cell_type": "code",
      "execution_count": null,
      "metadata": {
        "id": "fb7a5bytEtPr"
      },
      "outputs": [],
      "source": [
        "error=False\n",
        "# from estimator import *\n",
        "# import json,os\n",
        "class env():\n",
        "    def __init__(self) -> None:\n",
        "        with open(\"db_config.yaml\", \"r\") as stream:\n",
        "            try:\n",
        "                dumped=yaml.safe_load(stream)\n",
        "            except yaml.YAMLError as exc:\n",
        "                print(exc)\n",
        "        self.partition_scheme={}\n",
        "        self.replicated_table={}\n",
        "        self.db_config={}\n",
        "        n_attr=0\n",
        "        for table,attributes in dumped['tables'].items():\n",
        "            # db_config[table]={\"action\":1}\n",
        "            self.replicated_table[table]=0\n",
        "            self.partition_scheme[table]={}\n",
        "            for attr in attributes:\n",
        "                self.partition_scheme[table][attr]=0   \n",
        "            self.db_config[table]=[(n_attr,n_attr+len(attributes)),attributes]\n",
        "            n_attr+=len(attributes)\n",
        "        with open('foreign_key.txt','r') as fw:\n",
        "            key_pairs=fw.readlines()\n",
        "\n",
        "        self.fk_edges={} #((tbl_1,attr_1),(tbl_2,attr_2))=is_activated\n",
        "        for pair in key_pairs:\n",
        "            pair=pair.strip('\\n').replace(' ','').split('=')\n",
        "            edge=[]\n",
        "            for each in pair:\n",
        "                for table,attributes in dumped['tables'].items():\n",
        "                    if each in attributes:\n",
        "                        edge.append((table,each))\n",
        "            self.fk_edges[(edge[0],edge[1])]=0   \n",
        "\n",
        "        self.fk_info={} #tbl_1=[((tbl_1,attr_1),(tbl_2,attr_2))]\n",
        "        self.get_fk_info()\n",
        "        # self.action_type=['partition','replicate','activate',\"deactivate\"]\n",
        "    def get_fk_info(self):\n",
        "        for pair in self.fk_edges:\n",
        "            if pair[0][0] not in self.fk_info:\n",
        "                self.fk_info[pair[0][0]]=[]\n",
        "            if pair[1][0] not in self.fk_info:\n",
        "                self.fk_info[pair[1][0]]=[]            \n",
        "            self.fk_info[pair[0][0]].append(pair)\n",
        "            self.fk_info[pair[1][0]].append(pair)\n",
        "    def replicate(self,table):\n",
        "      if self.replicated_table[table]==0:\n",
        "        self.replicated_table[table]=1\n",
        "        for attr in self.partition_scheme[table]:\n",
        "            self.partition_scheme[table][attr]=0\n",
        "        for edge in self.fk_info[table]:\n",
        "            self.deactivate(edge)   \n",
        "      # else:\n",
        "      #   self.replicated_table[table]=0 #TODO Better undo?\n",
        "      # print(self.replicated_table)\n",
        "    def reset(self):\n",
        "        for tbl in self.partition_scheme:\n",
        "            tbl_attr=self.partition_scheme[tbl]\n",
        "            for attr in tbl_attr:\n",
        "                tbl_attr[attr]=0\n",
        "            self.partition_scheme[tbl]=tbl_attr\n",
        "        for edge in self.fk_edges:\n",
        "            self.fk_edges[edge]=0\n",
        "        for tbl in self.replicated_table:\n",
        "            self.replicated_table[tbl]=0\n",
        "    def partition(self,pair):\n",
        "        table,attr=pair\n",
        "        if self.partition_scheme[table][attr]==0:\n",
        "          for edge in self.fk_info[table]:\n",
        "              if pair not in edge and self.fk_edges[edge]==1:\n",
        "                  self.deactivate(edge)\n",
        "          for each in self.db_config[table][1]: #Only one attr can be partitioned key\n",
        "              self.partition_scheme[table][each]=0                    \n",
        "          self.partition_scheme[table][attr]=1\n",
        "          self.replicated_table[table]=0\n",
        "        # else:\n",
        "        #   self.replicate(table)\n",
        "\n",
        "        # display(self.partition_scheme)\n",
        "    def step(self,action_idx):\n",
        "        n_fk_edges=4\n",
        "        n_tables_attr=58\n",
        "        # old_state=self.get_current_state()\n",
        "        if action_idx<n_fk_edges:\n",
        "            candidates=list(self.fk_edges.keys())\n",
        "            edge=candidates[action_idx]\n",
        "            if self.fk_edges[edge]==0:\n",
        "                tbl_1,tbl_1_attr,tbl_2,tbl_2_attr=edge[0][0],edge[0][1],edge[1][0],edge[1][1] # to be activated\n",
        "                for e in self.fk_info[tbl_1]:\n",
        "                    if (tbl_1,tbl_1_attr) not in e and self.fk_edges[e]==1:\n",
        "                        self.deactivate(e)\n",
        "                        break\n",
        "                for e in self.fk_info[tbl_2]:\n",
        "                    if (tbl_2,tbl_2_attr) not in e and self.fk_edges[e]==1:\n",
        "                        self.deactivate(e)\n",
        "                        break            \n",
        "                self.fk_edges[edge]=1\n",
        "                self.partition_scheme[tbl_1][tbl_1_attr]=1\n",
        "                self.partition_scheme[tbl_2][tbl_2_attr]=1\n",
        "                self.replicated_table[tbl_1]=0\n",
        "                self.replicated_table[tbl_2]=0\n",
        "                msg='activate {}'.format(edge)\n",
        "            else:\n",
        "                # self.fk_edges[edge]=0\n",
        "                # tbl_1,tbl_1_attr,tbl_2,tbl_2_attr=edge[0][0],edge[0][1],edge[1][0],edge[1][1] # to be Deactivated\n",
        "                # self.partition_scheme[tbl_1][tbl_1_attr]=0\n",
        "                # self.partition_scheme[tbl_2][tbl_2_attr]=0  \n",
        "                self.deactivate(edge)   \n",
        "                msg='deactivate {}'.format(edge)\n",
        "        elif action_idx<n_fk_edges+n_tables_attr:\n",
        "            action_idx-=n_fk_edges\n",
        "            for table,attr_info in self.db_config.items():\n",
        "                attr_range=attr_info[0]\n",
        "                if action_idx>= attr_range[0] and action_idx<attr_range[1]:\n",
        "                    break\n",
        "            attr_list=attr_info[1]\n",
        "            attr=attr_list[action_idx-attr_range[0]]  \n",
        "            pair=(table,attr)\n",
        "            self.partition(pair)\n",
        "            msg='partition {}'.format(attr)\n",
        "        else:\n",
        "            action_idx-=n_fk_edges+n_tables_attr\n",
        "            table_list=list(self.partition_scheme.keys())\n",
        "            table=table_list[action_idx]\n",
        "            if table=='lineoder':\n",
        "              error=True\n",
        "            self.replicate(table)\n",
        "            for edge in self.fk_info[table]:\n",
        "                self.deactivate(edge)\n",
        "            msg='replicate {}'.format(table)\n",
        "        return  self.get_current_state(),msg \n",
        "    def get_current_state(self):\n",
        "        return np.array([list(self.fk_edges.values())+ self.get_table_states()])\n",
        "    def deactivate(self,edge):\n",
        "        self.fk_edges[edge]=0\n",
        "        tbl_1,tbl_1_attr,tbl_2,tbl_2_attr=edge[0][0],edge[0][1],edge[1][0],edge[1][1] # to be Deactivated\n",
        "        if tbl_1=='lineorder':\n",
        "            self.partition_scheme[tbl_1][tbl_1_attr]=0\n",
        "            self.replicate(tbl_2)\n",
        "        elif tbl_2=='lineorder':\n",
        "            self.partition_scheme[tbl_2][tbl_2_attr]=0\n",
        "            self.replicate(tbl_1)\n",
        "        else:\n",
        "            self.replicate(tbl_1)\n",
        "            self.replicate(tbl_2)\n",
        "    def cost_estimate(self):\n",
        "        # TODO partition scheme and plans\n",
        "        pass\n",
        "    def get_table_states(self):\n",
        "        # self.table_states=[]\n",
        "        table_states=[]\n",
        "        for table,attributes in self.partition_scheme.items():\n",
        "            table_states+=[self.replicated_table[table]]+list(attributes.values()) \n",
        "        return table_states\n"
      ]
    },
    {
      "cell_type": "markdown",
      "metadata": {
        "id": "yz02ReGvE0Ce"
      },
      "source": [
        "#Memory"
      ]
    },
    {
      "cell_type": "code",
      "execution_count": null,
      "metadata": {
        "id": "GhO0SABBE392"
      },
      "outputs": [],
      "source": [
        "def setup_seed(seed):\n",
        "    torch.manual_seed(seed)\n",
        "    torch.cuda.manual_seed(seed)\n",
        "    # torch.cuda.manual_seed_all(run_num)  # if you are using multi-GPU.\n",
        "    np.random.seed(seed)  # Numpy module.\n",
        "    random.seed(seed)  # Python random module.\n",
        "    torch.manual_seed(seed)\n",
        "    # torch.backends.cudnn.benchmark = False\n",
        "    # torch.backends.cudnn.deterministic = True\n",
        "\n",
        "device = torch.device(\"cuda\" if torch.cuda.is_available() else \"cpu\")\n",
        "Transition = namedtuple('Transition',('state', 'action', 'next_state', 'reward'))\n",
        "class ReplayMemory(object):\n",
        "\n",
        "    def __init__(self, capacity):\n",
        "        self.memory = deque([],maxlen=capacity)\n",
        "\n",
        "    def push(self, *args):\n",
        "        \"\"\"Save a transition\"\"\"\n",
        "        self.memory.append(Transition(*args))\n",
        "    def push_numpy(self, args):\n",
        "      # print(args[0].shape,args[1].shape)\n",
        "      self.push(torch.from_numpy(args[0]),args[1],torch.from_numpy(args[2]),torch.from_numpy(args[3]))\n",
        "\n",
        "    def sample(self, batch_size):\n",
        "        # random.seed(0)\n",
        "        return random.sample(self.memory, batch_size)\n",
        "\n",
        "    def __len__(self):\n",
        "        return len(self.memory)"
      ]
    },
    {
      "cell_type": "markdown",
      "metadata": {
        "id": "tXqKhToyFACd"
      },
      "source": [
        "# DQN"
      ]
    },
    {
      "cell_type": "code",
      "execution_count": null,
      "metadata": {
        "id": "m2xWOPPlFBue"
      },
      "outputs": [],
      "source": [
        "n_states=67\n",
        "n_actions=67\n",
        "import torch.nn.functional as F\n",
        "# class DQN(nn.Module):\n",
        "#     def __init__(self):\n",
        "#         super(DQN, self).__init__()\n",
        "#         # self.flatten = nn.Flatten()\n",
        "#         self.linear_relu_stack = nn.Sequential(\n",
        "#             # nn.Linear(np.array(env.observation_space.shape).prod(), 128, bias=False),\n",
        "#             nn.Linear(n_states, 128, bias=False),\n",
        "#             nn.ReLU(),\n",
        "#             nn.Linear(128, 64),\n",
        "#             nn.ReLU(),\n",
        "#             nn.Linear(64, n_actions),\n",
        "#         )\n",
        "#         self.head = nn.Linear(n_states, n_actions)\n",
        "\n",
        "#     def forward(self, x):\n",
        "#         x = x.float()\n",
        "#         x = self.linear_relu_stack(x)\n",
        "#         print('forward output',x.shape)\n",
        "#         print('reshaped',x.view(x.size(0), -1).shape)\n",
        "#         if x.size(0)==n_actions:\n",
        "#           return self.head(x.view(1,-1))\n",
        "#         else:\n",
        "#           return self.head(x.view(x.size(0), -1))\n",
        "\n",
        "class DQN(nn.Module):\n",
        "\n",
        "  def __init__(self):\n",
        "    super(DQN, self).__init__()\n",
        "    self.hidden1 = nn.Linear(n_states, 128)\n",
        "    self.hidden2 = nn.Linear(128, 64)\n",
        "    self.output = nn.Linear(64, n_actions)\n",
        "    # self.head = nn.Linear(n_states, n_actions)\n",
        "\n",
        "  def forward(self, x):\n",
        "    x = x.to(device)\n",
        "    x = x.float()\n",
        "    # print(x.shape)\n",
        "    x = F.relu(self.hidden1(x))\n",
        "    x = F.relu(self.hidden2(x))\n",
        "    x = self.output(x)\n",
        "    # print('forward output',x.shape)\n",
        "    # print('reshaped',x.view(x.size(0), -1).shape)\n",
        "    # return self.head(x.view(x.size(0), -1))\n",
        "    return x\n",
        "\n",
        "\n",
        "def display(scheme):\n",
        "    ret_dict={}\n",
        "    for table,values in scheme.items():\n",
        "        for attr,val in values.items():\n",
        "            if val==1:\n",
        "                ret_dict[table]=attr\n",
        "                break\n",
        "    print(ret_dict)"
      ]
    },
    {
      "cell_type": "code",
      "execution_count": null,
      "metadata": {
        "colab": {
          "base_uri": "https://localhost:8080/"
        },
        "id": "z0gJTN3IDMy0",
        "outputId": "bc20b966-3457-4f31-e619-8276cc295bf6"
      },
      "outputs": [
        {
          "data": {
            "text/plain": [
              "1"
            ]
          },
          "execution_count": 47,
          "metadata": {},
          "output_type": "execute_result"
        }
      ],
      "source": [
        "68%67"
      ]
    },
    {
      "cell_type": "markdown",
      "metadata": {
        "id": "9726faZgFIN8"
      },
      "source": [
        "# Agent"
      ]
    },
    {
      "cell_type": "code",
      "execution_count": null,
      "metadata": {
        "id": "UFaiRUjDFKEm"
      },
      "outputs": [],
      "source": [
        "BATCH_SIZE = 32\n",
        "GAMMA = 0.99\n",
        "EPS_START = 0.9\n",
        "EPS_END = 0.05\n",
        "# EPS_DECAY = 0.997\n",
        "EPS_DECAY = 0.005\n",
        "TARGET_UPDATE = 10\n",
        "learning_rate=5e-4\n",
        "mask_fact_table=[True]*67\n",
        "mask_fact_table[64]=False # not replicate lineorder\n",
        "action_mask=torch.from_numpy(np.array(mask_fact_table)).to(device=device) \n",
        "class agent():\n",
        "    def __init__(self) -> None:\n",
        "        self.policy_net=DQN().float().to(device)\n",
        "        self.target_net=DQN().float().to(device)\n",
        "        self.target_net.load_state_dict(self.policy_net.state_dict())\n",
        "        self.target_net.eval()\n",
        "        self.optimizer = optim.Adam(self.policy_net.parameters(),learning_rate)\n",
        "        self.memory = ReplayMemory(10000)\n",
        "        self.steps_done=0\n",
        "    def select_action(self,state):\n",
        "        # random.seed(0)\n",
        "        sample = random.random()\n",
        "        eps_threshold = EPS_END + (EPS_START - EPS_END) * \\\n",
        "            math.exp(-1. * self.steps_done * EPS_DECAY)\n",
        "        self.steps_done += 1\n",
        "        if sample > eps_threshold:\n",
        "            with torch.no_grad():\n",
        "              output=self.policy_net(torch.FloatTensor(state).unsqueeze(0)) # mask fact table replication\n",
        "              max_idx=torch.masked_select(output.squeeze(0), action_mask).max(0)[1]\n",
        "              kept_idx=action_mask.nonzero()\n",
        "              action= kept_idx[max_idx].view(1,1) \n",
        "              return action,'max'               \n",
        "              # return self.policy_net(torch.FloatTensor(state)).max(1)[1].view(1, 1),'max'\n",
        "        else:\n",
        "            # return torch.tensor([[random.randrange(n_actions)]], device=device, dtype=torch.long),'random' #random\n",
        "            return torch.tensor([[self.steps_done%67]], device=device, dtype=torch.long),'random' #round-robin\n",
        "\n",
        "    def optimize(self):\n",
        "      BATCH_SIZE=1\n",
        "      if len(self.memory) < BATCH_SIZE:\n",
        "        return None      \n",
        "      # print('optimized!')\n",
        "      transitions = self.memory.sample(BATCH_SIZE)\n",
        "      # Transpose the batch (see https://stackoverflow.com/a/19343/3343043 for\n",
        "      # detailed explanation). This converts batch-array of Transitions\n",
        "      # to Transition of batch-arrays.\n",
        "      transition_batch = Transition(*zip(*transitions))\n",
        "      # state_batch = torch.stack(transition_batch.state).to(device=device)\n",
        "      # action_batch = torch.stack(transition_batch.action).to(device=device)\n",
        "      # reward_batch = torch.stack(transition_batch.reward).to(device=device)\n",
        "      state_batch = torch.cat(transition_batch.state)\n",
        "      action_batch = torch.cat(transition_batch.action)\n",
        "      reward_batch = torch.cat(transition_batch.reward)  \n",
        "\n",
        "      # print('state_batch',state_batch.shape) \n",
        "      # print('action_batch',action_batch.shape)\n",
        "      # print('reward_batch',reward_batch.shape)   \n",
        "\n",
        "      # compute Q(s_t, a)\n",
        "      output=self.policy_net(state_batch)\n",
        "      # print(\"output_shape\",output.shape)\n",
        "      state_action_values=output.gather(1, action_batch)\n",
        "      # state_action_values = self.policy_net(state_batch).gather(1, action_batch)\n",
        "      next_state_values=self.target_net(state_batch).max(1)[0].detach()\n",
        "      # next_state_values= self.target_net(state_batch).max(1)[0].detach().view(state_batch.shape[0], 1)\n",
        "      # print('target_output',next_state_values.shape)\n",
        "\n",
        "      expected_state_action_values = ((next_state_values * GAMMA) + reward_batch).view(BATCH_SIZE, 1)\n",
        "      # print('state_action_values',state_action_values.shape)\n",
        "      # print('expected_state_action_values', expected_state_action_values.shape)\n",
        "      criterion = nn.SmoothL1Loss()\n",
        "      loss = criterion(state_action_values, expected_state_action_values.float())\n",
        "      # Optimize the model\n",
        "      self.optimizer.zero_grad()\n",
        "      loss.backward()\n",
        "      for param in self.policy_net.parameters():\n",
        "          param.grad.data.clamp_(-1, 1)\n",
        "      self.optimizer.step()\n",
        "      return loss\n",
        "\n",
        "    def train(self,db_env,num_episodes,t_max,Batch_Print,early_stopping=False,greedy=False):\n",
        "        loss_plot=[]\n",
        "        prev_loss=0\n",
        "        loss_rise_cnt=0\n",
        "        logger_cache=[]\n",
        "        ps_cache=[]\n",
        "        repl_cache=[]       \n",
        "        reward_cache=[]\n",
        "        action_cache=[]\n",
        "        types_cache=[]\n",
        "        for i_episode in range(num_episodes):\n",
        "            # Initialize the environment and state\n",
        "            db_env.reset()\n",
        "            current_state =db_env.get_current_state()\n",
        "            logger=[]\n",
        "            # loss_cnt_EPI=0\n",
        "            # prev_loss_EPI=0\n",
        "            ps=[]\n",
        "            repl=[]\n",
        "            actions=[]\n",
        "            rwrds=[]\n",
        "            types=[]\n",
        "            for t in range(t_max):\n",
        "                # print('step', t)\n",
        "                # Select and perform an action\n",
        "                # TODO reduce actions when generating or stepping\n",
        "                action,type_action = self.select_action(current_state)\n",
        "                # action = self.select_action(current_state)\n",
        "                next_state,msg = db_env.step(action.item())\n",
        "                reward=cost_estimate(db_env,greedy)\n",
        "                # reward_cache.append(reward)\n",
        "\n",
        "                # Store the transition in memory\n",
        "                self.memory.push_numpy((current_state, action, next_state, reward))\n",
        "\n",
        "                # # Move to the next state\n",
        "                current_state = next_state\n",
        "\n",
        "                # Perform one step of the optimization (on the policy network)\n",
        "                loss=self.optimize()\n",
        "                # print(db_env.replicated_table)\n",
        "\n",
        "                # ps.append(copy.deepcopy(db_env.partition_scheme))\n",
        "                # repl.append(copy.deepcopy(db_env.replicated_table)) \n",
        "                # actions.append([action,type_action,msg])   \n",
        "                # rwrds.append(reward)\n",
        "                # types.append(type_action)\n",
        "                if loss is not None:\n",
        "                    logger.append(loss)\n",
        "                    # ps.append(copy.deepcopy(db_env.partition_scheme))\n",
        "                    # repl.append(copy.deepcopy(db_env.replicated_table)) \n",
        "                    # actions.append([action,type_action,msg])   \n",
        "                    # rwrds.append(reward)\n",
        "                    # types.append(type_action)\n",
        "                if error:\n",
        "                  print(action.item())\n",
        "                  break\n",
        "            # # Update the target network, copying all weights and biases in DQN\n",
        "\n",
        "            # ps_cache.append(ps)\n",
        "            # repl_cache.append(repl)\n",
        "            # action_cache.append(actions)\n",
        "            # reward_cache.append(rwrds)\n",
        "            # types_cache.append(types)\n",
        "\n",
        "            if len(logger)>1:\n",
        "              if num_episodes>1:\n",
        "                avg_loss=sum(logger)/len(logger)\n",
        "                loss_plot.append(avg_loss)\n",
        "              else:\n",
        "                loss_plot=logger\n",
        "                # print(len(logger))\n",
        "            if (i_episode+1) % Batch_Print == 0:\n",
        "                print('episode batch {} completed'.format(i_episode//Batch_Print))\n",
        "                self.target_net.load_state_dict(self.policy_net.state_dict())\n",
        "            if error:\n",
        "              print(action.item())\n",
        "              break        \n",
        "            logger_cache.append(logger)   \n",
        "\n",
        "        print('Complete')  \n",
        "        # return loss_plot,reward_cache\n",
        "        return loss_plot,logger_cache,ps_cache,repl_cache,action_cache,reward_cache,types_cache\n",
        "        "
      ]
    },
    {
      "cell_type": "markdown",
      "metadata": {
        "id": "zdiWMZPzFREk"
      },
      "source": [
        "# Train"
      ]
    },
    {
      "cell_type": "code",
      "execution_count": null,
      "metadata": {
        "id": "dMTM5Pd2I_hb"
      },
      "outputs": [],
      "source": [
        "enginee=agent()\n",
        "db_env=env()\n",
        "setup_seed(123)\n",
        "train_loss=[]"
      ]
    },
    {
      "cell_type": "code",
      "execution_count": null,
      "metadata": {
        "colab": {
          "base_uri": "https://localhost:8080/",
          "height": 482
        },
        "id": "IcybWq14QeL-",
        "outputId": "65fa42d5-6217-467f-c408-e7c46b333e86"
      },
      "outputs": [
        {
          "name": "stdout",
          "output_type": "stream",
          "text": [
            "episode batch 0 completed\n",
            "episode batch 1 completed\n",
            "episode batch 2 completed\n",
            "episode batch 3 completed\n",
            "episode batch 4 completed\n",
            "episode batch 5 completed\n",
            "episode batch 6 completed\n",
            "episode batch 7 completed\n",
            "episode batch 8 completed\n",
            "episode batch 9 completed\n",
            "Complete\n"
          ]
        },
        {
          "data": {
            "text/plain": [
              "[<matplotlib.lines.Line2D at 0x7fd19429bb10>]"
            ]
          },
          "execution_count": 99,
          "metadata": {},
          "output_type": "execute_result"
        },
        {
          "data": {
            "image/png": "[encoded data removed]",
            "text/plain": [
              "<Figure size 432x288 with 1 Axes>"
            ]
          },
          "metadata": {
            "needs_background": "light"
          },
          "output_type": "display_data"
        }
      ],
      "source": [
        "stage_loss,step_loss,ps_cache,repl_cache,action_cache,reward_cache,types_cache=enginee.train(db_env,100,80,10,greedy=False)\n",
        "train_loss+=stage_loss\n",
        "plot([i for i in range(len(train_loss))],train_loss)"
      ]
    },
    {
      "cell_type": "markdown",
      "metadata": {
        "id": "3pfbDYovPA2j"
      },
      "source": [
        "## Fine tuning"
      ]
    },
    {
      "cell_type": "code",
      "execution_count": null,
      "metadata": {
        "colab": {
          "base_uri": "https://localhost:8080/",
          "height": 392
        },
        "id": "F4L06W6hPCXd",
        "outputId": "14f4f31f-a185-4913-f103-19ab2bbd29ce"
      },
      "outputs": [
        {
          "name": "stdout",
          "output_type": "stream",
          "text": [
            "episode batch 0 completed\n",
            "episode batch 1 completed\n",
            "episode batch 2 completed\n",
            "episode batch 3 completed\n",
            "episode batch 4 completed\n",
            "Complete\n"
          ]
        },
        {
          "data": {
            "text/plain": [
              "[<matplotlib.lines.Line2D at 0x7fd194263710>]"
            ]
          },
          "execution_count": 106,
          "metadata": {},
          "output_type": "execute_result"
        },
        {
          "data": {
            "image/png": "[encoded data removed]",
            "text/plain": [
              "<Figure size 432x288 with 1 Axes>"
            ]
          },
          "metadata": {
            "needs_background": "light"
          },
          "output_type": "display_data"
        }
      ],
      "source": [
        "stage_loss,step_loss,ps_cache,repl_cache,action_cache,reward_cache,types_cache=enginee.train(db_env,50,80,10,greedy=False)\n",
        "train_loss+=stage_loss\n",
        "plot([i for i in range(len(train_loss))],train_loss)"
      ]
    },
    {
      "cell_type": "code",
      "execution_count": null,
      "metadata": {
        "id": "gw31YQTHP4Hy"
      },
      "outputs": [],
      "source": [
        "enginee=agent()\n",
        "db_env=env()\n",
        "setup_seed(123)\n",
        "train_loss=[]"
      ]
    },
    {
      "cell_type": "code",
      "execution_count": null,
      "metadata": {
        "colab": {
          "base_uri": "https://localhost:8080/",
          "height": 482
        },
        "id": "zPQYtQb3P6r8",
        "outputId": "56ef2020-6673-48cd-8108-fdf2f8fd252a"
      },
      "outputs": [
        {
          "name": "stdout",
          "output_type": "stream",
          "text": [
            "episode batch 0 completed\n",
            "episode batch 1 completed\n",
            "episode batch 2 completed\n",
            "episode batch 3 completed\n",
            "episode batch 4 completed\n",
            "episode batch 5 completed\n",
            "episode batch 6 completed\n",
            "episode batch 7 completed\n",
            "episode batch 8 completed\n",
            "episode batch 9 completed\n",
            "Complete\n"
          ]
        },
        {
          "data": {
            "text/plain": [
              "[<matplotlib.lines.Line2D at 0x7fd1941c3890>]"
            ]
          },
          "execution_count": 114,
          "metadata": {},
          "output_type": "execute_result"
        },
        {
          "data": {
            "image/png": "[encoded data removed]",
            "text/plain": [
              "<Figure size 432x288 with 1 Axes>"
            ]
          },
          "metadata": {
            "needs_background": "light"
          },
          "output_type": "display_data"
        }
      ],
      "source": [
        "stage_loss,step_loss,ps_cache,repl_cache,action_cache,reward_cache,types_cache=enginee.train(db_env,100,100,10,greedy=False)\n",
        "train_loss+=stage_loss\n",
        "plot([i for i in range(len(train_loss))],train_loss)"
      ]
    },
    {
      "cell_type": "code",
      "execution_count": null,
      "metadata": {
        "id": "ROhGiFpRQwqb"
      },
      "outputs": [],
      "source": [
        "enginee=agent()\n",
        "db_env=env()\n",
        "setup_seed(123)\n",
        "train_loss=[]"
      ]
    },
    {
      "cell_type": "code",
      "execution_count": null,
      "metadata": {
        "colab": {
          "base_uri": "https://localhost:8080/",
          "height": 428
        },
        "id": "ox_rmRaQQx-k",
        "outputId": "64b4110a-8eb8-444f-88f3-56f14fcfb6d2"
      },
      "outputs": [
        {
          "name": "stdout",
          "output_type": "stream",
          "text": [
            "episode batch 0 completed\n",
            "episode batch 1 completed\n",
            "episode batch 2 completed\n",
            "episode batch 3 completed\n",
            "episode batch 4 completed\n",
            "episode batch 5 completed\n",
            "episode batch 6 completed\n",
            "Complete\n"
          ]
        },
        {
          "data": {
            "text/plain": [
              "[<matplotlib.lines.Line2D at 0x7fd19454f510>]"
            ]
          },
          "execution_count": 116,
          "metadata": {},
          "output_type": "execute_result"
        },
        {
          "data": {
            "image/png": "[encoded data removed]",
            "text/plain": [
              "<Figure size 432x288 with 1 Axes>"
            ]
          },
          "metadata": {
            "needs_background": "light"
          },
          "output_type": "display_data"
        }
      ],
      "source": [
        "stage_loss,step_loss,ps_cache,repl_cache,action_cache,reward_cache,types_cache=enginee.train(db_env,70,100,10,greedy=False)\n",
        "train_loss+=stage_loss\n",
        "plot([i for i in range(len(train_loss))],train_loss)"
      ]
    },
    {
      "cell_type": "markdown",
      "metadata": {
        "id": "DS1PUk1F_un2"
      },
      "source": [
        "## Check training process\n",
        "\n",
        "A simple example"
      ]
    },
    {
      "cell_type": "code",
      "execution_count": null,
      "metadata": {
        "id": "pLKlNIF__3mv"
      },
      "outputs": [],
      "source": [
        "for idx,step in enumerate(ps_cache):\n",
        "  if len(step)>0:\n",
        "    print(idx)\n",
        "    # for i in step:\n",
        "    #   display(i)\n",
        "      # action_cache[idx]"
      ]
    },
    {
      "cell_type": "code",
      "execution_count": null,
      "metadata": {
        "colab": {
          "base_uri": "https://localhost:8080/"
        },
        "id": "moOrcUZUjfXK",
        "outputId": "dc9cbd7e-9bd7-4395-c99a-5a9d765b2e1b"
      },
      "outputs": [
        {
          "name": "stdout",
          "output_type": "stream",
          "text": [
            "0 9\n"
          ]
        }
      ],
      "source": [
        "for idx,value in enumerate(types_cache):\n",
        "  print(idx, value.count('random'))"
      ]
    },
    {
      "cell_type": "code",
      "execution_count": null,
      "metadata": {
        "colab": {
          "base_uri": "https://localhost:8080/"
        },
        "id": "S7dBIh5sVE0F",
        "outputId": "65cc4577-c384-4ab4-bd20-89b045d9cdb2"
      },
      "outputs": [
        {
          "name": "stdout",
          "output_type": "stream",
          "text": [
            "[-1.]\n",
            "[tensor([[47]]), 'random', 'partition p_name']\n",
            "{'part': 'p_name'}\n",
            "{'customer': 0, 'dim_date': 0, 'lineorder': 0, 'part': 0, 'supplier': 0}\n",
            "[-1.]\n",
            "[tensor([[11]]), 'max', 'partition c_mktsegment']\n",
            "{'customer': 'c_mktsegment', 'part': 'p_name'}\n",
            "{'customer': 0, 'dim_date': 0, 'lineorder': 0, 'part': 0, 'supplier': 0}\n",
            "[-1.]\n",
            "[tensor([[11]]), 'max', 'partition c_mktsegment']\n",
            "{'customer': 'c_mktsegment', 'part': 'p_name'}\n",
            "{'customer': 0, 'dim_date': 0, 'lineorder': 0, 'part': 0, 'supplier': 0}\n",
            "[-1.]\n",
            "[tensor([[11]]), 'max', 'partition c_mktsegment']\n",
            "{'customer': 'c_mktsegment', 'part': 'p_name'}\n",
            "{'customer': 0, 'dim_date': 0, 'lineorder': 0, 'part': 0, 'supplier': 0}\n",
            "[-1.]\n",
            "[tensor([[11]]), 'max', 'partition c_mktsegment']\n",
            "{'customer': 'c_mktsegment', 'part': 'p_name'}\n",
            "{'customer': 0, 'dim_date': 0, 'lineorder': 0, 'part': 0, 'supplier': 0}\n",
            "[-1.]\n",
            "[tensor([[11]]), 'max', 'partition c_mktsegment']\n",
            "{'customer': 'c_mktsegment', 'part': 'p_name'}\n",
            "{'customer': 0, 'dim_date': 0, 'lineorder': 0, 'part': 0, 'supplier': 0}\n",
            "[-1.]\n",
            "[tensor([[11]]), 'max', 'partition c_mktsegment']\n",
            "{'customer': 'c_mktsegment', 'part': 'p_name'}\n",
            "{'customer': 0, 'dim_date': 0, 'lineorder': 0, 'part': 0, 'supplier': 0}\n",
            "[-1.]\n",
            "[tensor([[11]]), 'max', 'partition c_mktsegment']\n",
            "{'customer': 'c_mktsegment', 'part': 'p_name'}\n",
            "{'customer': 0, 'dim_date': 0, 'lineorder': 0, 'part': 0, 'supplier': 0}\n",
            "[-1.]\n",
            "[tensor([[11]]), 'max', 'partition c_mktsegment']\n",
            "{'customer': 'c_mktsegment', 'part': 'p_name'}\n",
            "{'customer': 0, 'dim_date': 0, 'lineorder': 0, 'part': 0, 'supplier': 0}\n",
            "[-1.]\n",
            "[tensor([[11]]), 'max', 'partition c_mktsegment']\n",
            "{'customer': 'c_mktsegment', 'part': 'p_name'}\n",
            "{'customer': 0, 'dim_date': 0, 'lineorder': 0, 'part': 0, 'supplier': 0}\n",
            "[-1.]\n",
            "[tensor([[11]]), 'max', 'partition c_mktsegment']\n",
            "{'customer': 'c_mktsegment', 'part': 'p_name'}\n",
            "{'customer': 0, 'dim_date': 0, 'lineorder': 0, 'part': 0, 'supplier': 0}\n",
            "[-1.]\n",
            "[tensor([[11]]), 'max', 'partition c_mktsegment']\n",
            "{'customer': 'c_mktsegment', 'part': 'p_name'}\n",
            "{'customer': 0, 'dim_date': 0, 'lineorder': 0, 'part': 0, 'supplier': 0}\n",
            "[-1.]\n",
            "[tensor([[11]]), 'max', 'partition c_mktsegment']\n",
            "{'customer': 'c_mktsegment', 'part': 'p_name'}\n",
            "{'customer': 0, 'dim_date': 0, 'lineorder': 0, 'part': 0, 'supplier': 0}\n",
            "[-1.]\n",
            "[tensor([[11]]), 'max', 'partition c_mktsegment']\n",
            "{'customer': 'c_mktsegment', 'part': 'p_name'}\n",
            "{'customer': 0, 'dim_date': 0, 'lineorder': 0, 'part': 0, 'supplier': 0}\n",
            "[-1.]\n",
            "[tensor([[11]]), 'max', 'partition c_mktsegment']\n",
            "{'customer': 'c_mktsegment', 'part': 'p_name'}\n",
            "{'customer': 0, 'dim_date': 0, 'lineorder': 0, 'part': 0, 'supplier': 0}\n",
            "[-1.]\n",
            "[tensor([[11]]), 'max', 'partition c_mktsegment']\n",
            "{'customer': 'c_mktsegment', 'part': 'p_name'}\n",
            "{'customer': 0, 'dim_date': 0, 'lineorder': 0, 'part': 0, 'supplier': 0}\n",
            "[-1.]\n",
            "[tensor([[11]]), 'max', 'partition c_mktsegment']\n",
            "{'customer': 'c_mktsegment', 'part': 'p_name'}\n",
            "{'customer': 0, 'dim_date': 0, 'lineorder': 0, 'part': 0, 'supplier': 0}\n",
            "[-1.]\n",
            "[tensor([[11]]), 'max', 'partition c_mktsegment']\n",
            "{'customer': 'c_mktsegment', 'part': 'p_name'}\n",
            "{'customer': 0, 'dim_date': 0, 'lineorder': 0, 'part': 0, 'supplier': 0}\n",
            "[-1.]\n",
            "[tensor([[61]]), 'max', 'partition s_phone']\n",
            "{'customer': 'c_mktsegment', 'part': 'p_name', 'supplier': 's_phone'}\n",
            "{'customer': 0, 'dim_date': 0, 'lineorder': 0, 'part': 0, 'supplier': 0}\n",
            "[-1.]\n",
            "[tensor([[61]]), 'max', 'partition s_phone']\n",
            "{'customer': 'c_mktsegment', 'part': 'p_name', 'supplier': 's_phone'}\n",
            "{'customer': 0, 'dim_date': 0, 'lineorder': 0, 'part': 0, 'supplier': 0}\n",
            "[-1.]\n",
            "[tensor([[61]]), 'max', 'partition s_phone']\n",
            "{'customer': 'c_mktsegment', 'part': 'p_name', 'supplier': 's_phone'}\n",
            "{'customer': 0, 'dim_date': 0, 'lineorder': 0, 'part': 0, 'supplier': 0}\n",
            "[-0.70422324]\n",
            "[tensor([[1]]), 'random', \"activate (('lineorder', 'lo_partkey'), ('part', 'p_partkey'))\"]\n",
            "{'customer': 'c_mktsegment', 'lineorder': 'lo_partkey', 'part': 'p_partkey', 'supplier': 's_phone'}\n",
            "{'customer': 0, 'dim_date': 0, 'lineorder': 0, 'part': 0, 'supplier': 0}\n",
            "[-0.70422324]\n",
            "[tensor([[61]]), 'max', 'partition s_phone']\n",
            "{'customer': 'c_mktsegment', 'lineorder': 'lo_partkey', 'part': 'p_partkey', 'supplier': 's_phone'}\n",
            "{'customer': 0, 'dim_date': 0, 'lineorder': 0, 'part': 0, 'supplier': 0}\n",
            "[-0.70422324]\n",
            "[tensor([[61]]), 'max', 'partition s_phone']\n",
            "{'customer': 'c_mktsegment', 'lineorder': 'lo_partkey', 'part': 'p_partkey', 'supplier': 's_phone'}\n",
            "{'customer': 0, 'dim_date': 0, 'lineorder': 0, 'part': 0, 'supplier': 0}\n",
            "[-0.70422324]\n",
            "[tensor([[61]]), 'max', 'partition s_phone']\n",
            "{'customer': 'c_mktsegment', 'lineorder': 'lo_partkey', 'part': 'p_partkey', 'supplier': 's_phone'}\n",
            "{'customer': 0, 'dim_date': 0, 'lineorder': 0, 'part': 0, 'supplier': 0}\n",
            "[-0.70422324]\n",
            "[tensor([[61]]), 'max', 'partition s_phone']\n",
            "{'customer': 'c_mktsegment', 'lineorder': 'lo_partkey', 'part': 'p_partkey', 'supplier': 's_phone'}\n",
            "{'customer': 0, 'dim_date': 0, 'lineorder': 0, 'part': 0, 'supplier': 0}\n",
            "[-0.70422324]\n",
            "[tensor([[6]]), 'random', 'partition c_address']\n",
            "{'customer': 'c_address', 'lineorder': 'lo_partkey', 'part': 'p_partkey', 'supplier': 's_phone'}\n",
            "{'customer': 0, 'dim_date': 0, 'lineorder': 0, 'part': 0, 'supplier': 0}\n",
            "[-0.70422324]\n",
            "[tensor([[61]]), 'max', 'partition s_phone']\n",
            "{'customer': 'c_address', 'lineorder': 'lo_partkey', 'part': 'p_partkey', 'supplier': 's_phone'}\n",
            "{'customer': 0, 'dim_date': 0, 'lineorder': 0, 'part': 0, 'supplier': 0}\n",
            "[-0.70422324]\n",
            "[tensor([[8]]), 'random', 'partition c_nation']\n",
            "{'customer': 'c_nation', 'lineorder': 'lo_partkey', 'part': 'p_partkey', 'supplier': 's_phone'}\n",
            "{'customer': 0, 'dim_date': 0, 'lineorder': 0, 'part': 0, 'supplier': 0}\n",
            "[-0.70422324]\n",
            "[tensor([[61]]), 'max', 'partition s_phone']\n",
            "{'customer': 'c_nation', 'lineorder': 'lo_partkey', 'part': 'p_partkey', 'supplier': 's_phone'}\n",
            "{'customer': 0, 'dim_date': 0, 'lineorder': 0, 'part': 0, 'supplier': 0}\n",
            "[-0.70422324]\n",
            "[tensor([[61]]), 'max', 'partition s_phone']\n",
            "{'customer': 'c_nation', 'lineorder': 'lo_partkey', 'part': 'p_partkey', 'supplier': 's_phone'}\n",
            "{'customer': 0, 'dim_date': 0, 'lineorder': 0, 'part': 0, 'supplier': 0}\n",
            "[-0.70422324]\n",
            "[tensor([[61]]), 'max', 'partition s_phone']\n",
            "{'customer': 'c_nation', 'lineorder': 'lo_partkey', 'part': 'p_partkey', 'supplier': 's_phone'}\n",
            "{'customer': 0, 'dim_date': 0, 'lineorder': 0, 'part': 0, 'supplier': 0}\n",
            "[-0.70422324]\n",
            "[tensor([[61]]), 'max', 'partition s_phone']\n",
            "{'customer': 'c_nation', 'lineorder': 'lo_partkey', 'part': 'p_partkey', 'supplier': 's_phone'}\n",
            "{'customer': 0, 'dim_date': 0, 'lineorder': 0, 'part': 0, 'supplier': 0}\n",
            "[-0.70422324]\n",
            "[tensor([[61]]), 'max', 'partition s_phone']\n",
            "{'customer': 'c_nation', 'lineorder': 'lo_partkey', 'part': 'p_partkey', 'supplier': 's_phone'}\n",
            "{'customer': 0, 'dim_date': 0, 'lineorder': 0, 'part': 0, 'supplier': 0}\n",
            "[-0.70422324]\n",
            "[tensor([[61]]), 'max', 'partition s_phone']\n",
            "{'customer': 'c_nation', 'lineorder': 'lo_partkey', 'part': 'p_partkey', 'supplier': 's_phone'}\n",
            "{'customer': 0, 'dim_date': 0, 'lineorder': 0, 'part': 0, 'supplier': 0}\n",
            "[-0.70422324]\n",
            "[tensor([[61]]), 'max', 'partition s_phone']\n",
            "{'customer': 'c_nation', 'lineorder': 'lo_partkey', 'part': 'p_partkey', 'supplier': 's_phone'}\n",
            "{'customer': 0, 'dim_date': 0, 'lineorder': 0, 'part': 0, 'supplier': 0}\n",
            "[-0.70422324]\n",
            "[tensor([[61]]), 'max', 'partition s_phone']\n",
            "{'customer': 'c_nation', 'lineorder': 'lo_partkey', 'part': 'p_partkey', 'supplier': 's_phone'}\n",
            "{'customer': 0, 'dim_date': 0, 'lineorder': 0, 'part': 0, 'supplier': 0}\n",
            "[-0.70422324]\n",
            "[tensor([[61]]), 'max', 'partition s_phone']\n",
            "{'customer': 'c_nation', 'lineorder': 'lo_partkey', 'part': 'p_partkey', 'supplier': 's_phone'}\n",
            "{'customer': 0, 'dim_date': 0, 'lineorder': 0, 'part': 0, 'supplier': 0}\n",
            "[-0.70422324]\n",
            "[tensor([[61]]), 'max', 'partition s_phone']\n",
            "{'customer': 'c_nation', 'lineorder': 'lo_partkey', 'part': 'p_partkey', 'supplier': 's_phone'}\n",
            "{'customer': 0, 'dim_date': 0, 'lineorder': 0, 'part': 0, 'supplier': 0}\n",
            "[-0.70422324]\n",
            "[tensor([[61]]), 'max', 'partition s_phone']\n",
            "{'customer': 'c_nation', 'lineorder': 'lo_partkey', 'part': 'p_partkey', 'supplier': 's_phone'}\n",
            "{'customer': 0, 'dim_date': 0, 'lineorder': 0, 'part': 0, 'supplier': 0}\n",
            "[-0.70422324]\n",
            "[tensor([[61]]), 'max', 'partition s_phone']\n",
            "{'customer': 'c_nation', 'lineorder': 'lo_partkey', 'part': 'p_partkey', 'supplier': 's_phone'}\n",
            "{'customer': 0, 'dim_date': 0, 'lineorder': 0, 'part': 0, 'supplier': 0}\n",
            "[-0.70422324]\n",
            "[tensor([[61]]), 'max', 'partition s_phone']\n",
            "{'customer': 'c_nation', 'lineorder': 'lo_partkey', 'part': 'p_partkey', 'supplier': 's_phone'}\n",
            "{'customer': 0, 'dim_date': 0, 'lineorder': 0, 'part': 0, 'supplier': 0}\n",
            "[-0.70422324]\n",
            "[tensor([[61]]), 'max', 'partition s_phone']\n",
            "{'customer': 'c_nation', 'lineorder': 'lo_partkey', 'part': 'p_partkey', 'supplier': 's_phone'}\n",
            "{'customer': 0, 'dim_date': 0, 'lineorder': 0, 'part': 0, 'supplier': 0}\n",
            "[-0.70422324]\n",
            "[tensor([[61]]), 'max', 'partition s_phone']\n",
            "{'customer': 'c_nation', 'lineorder': 'lo_partkey', 'part': 'p_partkey', 'supplier': 's_phone'}\n",
            "{'customer': 0, 'dim_date': 0, 'lineorder': 0, 'part': 0, 'supplier': 0}\n",
            "[-0.70422324]\n",
            "[tensor([[61]]), 'max', 'partition s_phone']\n",
            "{'customer': 'c_nation', 'lineorder': 'lo_partkey', 'part': 'p_partkey', 'supplier': 's_phone'}\n",
            "{'customer': 0, 'dim_date': 0, 'lineorder': 0, 'part': 0, 'supplier': 0}\n",
            "[-0.70422324]\n",
            "[tensor([[61]]), 'max', 'partition s_phone']\n",
            "{'customer': 'c_nation', 'lineorder': 'lo_partkey', 'part': 'p_partkey', 'supplier': 's_phone'}\n",
            "{'customer': 0, 'dim_date': 0, 'lineorder': 0, 'part': 0, 'supplier': 0}\n",
            "[-0.70422324]\n",
            "[tensor([[26]]), 'random', 'partition d_lastdayinmonthfl']\n",
            "{'customer': 'c_nation', 'dim_date': 'd_lastdayinmonthfl', 'lineorder': 'lo_partkey', 'part': 'p_partkey', 'supplier': 's_phone'}\n",
            "{'customer': 0, 'dim_date': 0, 'lineorder': 0, 'part': 0, 'supplier': 0}\n",
            "[-0.70422324]\n",
            "[tensor([[27]]), 'random', 'partition d_holidayfl']\n",
            "{'customer': 'c_nation', 'dim_date': 'd_holidayfl', 'lineorder': 'lo_partkey', 'part': 'p_partkey', 'supplier': 's_phone'}\n",
            "{'customer': 0, 'dim_date': 0, 'lineorder': 0, 'part': 0, 'supplier': 0}\n",
            "[-0.70422324]\n",
            "[tensor([[61]]), 'max', 'partition s_phone']\n",
            "{'customer': 'c_nation', 'dim_date': 'd_holidayfl', 'lineorder': 'lo_partkey', 'part': 'p_partkey', 'supplier': 's_phone'}\n",
            "{'customer': 0, 'dim_date': 0, 'lineorder': 0, 'part': 0, 'supplier': 0}\n",
            "[-0.70422324]\n",
            "[tensor([[61]]), 'max', 'partition s_phone']\n",
            "{'customer': 'c_nation', 'dim_date': 'd_holidayfl', 'lineorder': 'lo_partkey', 'part': 'p_partkey', 'supplier': 's_phone'}\n",
            "{'customer': 0, 'dim_date': 0, 'lineorder': 0, 'part': 0, 'supplier': 0}\n",
            "[-0.70422324]\n",
            "[tensor([[30]]), 'random', 'partition lo_linenumber']\n",
            "{'customer': 'c_nation', 'dim_date': 'd_holidayfl', 'lineorder': 'lo_linenumber', 'supplier': 's_phone'}\n",
            "{'customer': 0, 'dim_date': 0, 'lineorder': 0, 'part': 1, 'supplier': 0}\n",
            "[-0.70422324]\n",
            "[tensor([[61]]), 'max', 'partition s_phone']\n",
            "{'customer': 'c_nation', 'dim_date': 'd_holidayfl', 'lineorder': 'lo_linenumber', 'supplier': 's_phone'}\n",
            "{'customer': 0, 'dim_date': 0, 'lineorder': 0, 'part': 1, 'supplier': 0}\n",
            "[-0.70422324]\n",
            "[tensor([[61]]), 'max', 'partition s_phone']\n",
            "{'customer': 'c_nation', 'dim_date': 'd_holidayfl', 'lineorder': 'lo_linenumber', 'supplier': 's_phone'}\n",
            "{'customer': 0, 'dim_date': 0, 'lineorder': 0, 'part': 1, 'supplier': 0}\n",
            "[-0.70422324]\n",
            "[tensor([[61]]), 'max', 'partition s_phone']\n",
            "{'customer': 'c_nation', 'dim_date': 'd_holidayfl', 'lineorder': 'lo_linenumber', 'supplier': 's_phone'}\n",
            "{'customer': 0, 'dim_date': 0, 'lineorder': 0, 'part': 1, 'supplier': 0}\n",
            "[-0.70422324]\n",
            "[tensor([[61]]), 'max', 'partition s_phone']\n",
            "{'customer': 'c_nation', 'dim_date': 'd_holidayfl', 'lineorder': 'lo_linenumber', 'supplier': 's_phone'}\n",
            "{'customer': 0, 'dim_date': 0, 'lineorder': 0, 'part': 1, 'supplier': 0}\n",
            "[-0.70422324]\n",
            "[tensor([[61]]), 'max', 'partition s_phone']\n",
            "{'customer': 'c_nation', 'dim_date': 'd_holidayfl', 'lineorder': 'lo_linenumber', 'supplier': 's_phone'}\n",
            "{'customer': 0, 'dim_date': 0, 'lineorder': 0, 'part': 1, 'supplier': 0}\n",
            "[-0.70422324]\n",
            "[tensor([[61]]), 'max', 'partition s_phone']\n",
            "{'customer': 'c_nation', 'dim_date': 'd_holidayfl', 'lineorder': 'lo_linenumber', 'supplier': 's_phone'}\n",
            "{'customer': 0, 'dim_date': 0, 'lineorder': 0, 'part': 1, 'supplier': 0}\n",
            "[-0.70422324]\n",
            "[tensor([[61]]), 'max', 'partition s_phone']\n",
            "{'customer': 'c_nation', 'dim_date': 'd_holidayfl', 'lineorder': 'lo_linenumber', 'supplier': 's_phone'}\n",
            "{'customer': 0, 'dim_date': 0, 'lineorder': 0, 'part': 1, 'supplier': 0}\n",
            "[-0.70422324]\n",
            "[tensor([[61]]), 'max', 'partition s_phone']\n",
            "{'customer': 'c_nation', 'dim_date': 'd_holidayfl', 'lineorder': 'lo_linenumber', 'supplier': 's_phone'}\n",
            "{'customer': 0, 'dim_date': 0, 'lineorder': 0, 'part': 1, 'supplier': 0}\n",
            "[-0.70422324]\n",
            "[tensor([[61]]), 'max', 'partition s_phone']\n",
            "{'customer': 'c_nation', 'dim_date': 'd_holidayfl', 'lineorder': 'lo_linenumber', 'supplier': 's_phone'}\n",
            "{'customer': 0, 'dim_date': 0, 'lineorder': 0, 'part': 1, 'supplier': 0}\n",
            "[-0.70422324]\n",
            "[tensor([[61]]), 'max', 'partition s_phone']\n",
            "{'customer': 'c_nation', 'dim_date': 'd_holidayfl', 'lineorder': 'lo_linenumber', 'supplier': 's_phone'}\n",
            "{'customer': 0, 'dim_date': 0, 'lineorder': 0, 'part': 1, 'supplier': 0}\n",
            "[-0.70422324]\n",
            "[tensor([[61]]), 'max', 'partition s_phone']\n",
            "{'customer': 'c_nation', 'dim_date': 'd_holidayfl', 'lineorder': 'lo_linenumber', 'supplier': 's_phone'}\n",
            "{'customer': 0, 'dim_date': 0, 'lineorder': 0, 'part': 1, 'supplier': 0}\n",
            "[-0.70422324]\n",
            "[tensor([[61]]), 'max', 'partition s_phone']\n",
            "{'customer': 'c_nation', 'dim_date': 'd_holidayfl', 'lineorder': 'lo_linenumber', 'supplier': 's_phone'}\n",
            "{'customer': 0, 'dim_date': 0, 'lineorder': 0, 'part': 1, 'supplier': 0}\n",
            "[-0.70422324]\n",
            "[tensor([[61]]), 'max', 'partition s_phone']\n",
            "{'customer': 'c_nation', 'dim_date': 'd_holidayfl', 'lineorder': 'lo_linenumber', 'supplier': 's_phone'}\n",
            "{'customer': 0, 'dim_date': 0, 'lineorder': 0, 'part': 1, 'supplier': 0}\n",
            "[-0.70422324]\n",
            "[tensor([[61]]), 'max', 'partition s_phone']\n",
            "{'customer': 'c_nation', 'dim_date': 'd_holidayfl', 'lineorder': 'lo_linenumber', 'supplier': 's_phone'}\n",
            "{'customer': 0, 'dim_date': 0, 'lineorder': 0, 'part': 1, 'supplier': 0}\n",
            "[-0.70422324]\n",
            "[tensor([[61]]), 'max', 'partition s_phone']\n",
            "{'customer': 'c_nation', 'dim_date': 'd_holidayfl', 'lineorder': 'lo_linenumber', 'supplier': 's_phone'}\n",
            "{'customer': 0, 'dim_date': 0, 'lineorder': 0, 'part': 1, 'supplier': 0}\n",
            "[-0.70422324]\n",
            "[tensor([[61]]), 'max', 'partition s_phone']\n",
            "{'customer': 'c_nation', 'dim_date': 'd_holidayfl', 'lineorder': 'lo_linenumber', 'supplier': 's_phone'}\n",
            "{'customer': 0, 'dim_date': 0, 'lineorder': 0, 'part': 1, 'supplier': 0}\n",
            "[-0.70422324]\n",
            "[tensor([[61]]), 'max', 'partition s_phone']\n",
            "{'customer': 'c_nation', 'dim_date': 'd_holidayfl', 'lineorder': 'lo_linenumber', 'supplier': 's_phone'}\n",
            "{'customer': 0, 'dim_date': 0, 'lineorder': 0, 'part': 1, 'supplier': 0}\n",
            "[-0.70422324]\n",
            "[tensor([[61]]), 'max', 'partition s_phone']\n",
            "{'customer': 'c_nation', 'dim_date': 'd_holidayfl', 'lineorder': 'lo_linenumber', 'supplier': 's_phone'}\n",
            "{'customer': 0, 'dim_date': 0, 'lineorder': 0, 'part': 1, 'supplier': 0}\n",
            "[-0.70422324]\n",
            "[tensor([[61]]), 'max', 'partition s_phone']\n",
            "{'customer': 'c_nation', 'dim_date': 'd_holidayfl', 'lineorder': 'lo_linenumber', 'supplier': 's_phone'}\n",
            "{'customer': 0, 'dim_date': 0, 'lineorder': 0, 'part': 1, 'supplier': 0}\n",
            "[-0.70422324]\n",
            "[tensor([[61]]), 'max', 'partition s_phone']\n",
            "{'customer': 'c_nation', 'dim_date': 'd_holidayfl', 'lineorder': 'lo_linenumber', 'supplier': 's_phone'}\n",
            "{'customer': 0, 'dim_date': 0, 'lineorder': 0, 'part': 1, 'supplier': 0}\n",
            "[-0.70422324]\n",
            "[tensor([[61]]), 'max', 'partition s_phone']\n",
            "{'customer': 'c_nation', 'dim_date': 'd_holidayfl', 'lineorder': 'lo_linenumber', 'supplier': 's_phone'}\n",
            "{'customer': 0, 'dim_date': 0, 'lineorder': 0, 'part': 1, 'supplier': 0}\n",
            "[-0.70422324]\n",
            "[tensor([[61]]), 'max', 'partition s_phone']\n",
            "{'customer': 'c_nation', 'dim_date': 'd_holidayfl', 'lineorder': 'lo_linenumber', 'supplier': 's_phone'}\n",
            "{'customer': 0, 'dim_date': 0, 'lineorder': 0, 'part': 1, 'supplier': 0}\n",
            "[-0.70422324]\n",
            "[tensor([[61]]), 'max', 'partition s_phone']\n",
            "{'customer': 'c_nation', 'dim_date': 'd_holidayfl', 'lineorder': 'lo_linenumber', 'supplier': 's_phone'}\n",
            "{'customer': 0, 'dim_date': 0, 'lineorder': 0, 'part': 1, 'supplier': 0}\n",
            "[-0.70422324]\n",
            "[tensor([[61]]), 'max', 'partition s_phone']\n",
            "{'customer': 'c_nation', 'dim_date': 'd_holidayfl', 'lineorder': 'lo_linenumber', 'supplier': 's_phone'}\n",
            "{'customer': 0, 'dim_date': 0, 'lineorder': 0, 'part': 1, 'supplier': 0}\n",
            "[-0.70422324]\n",
            "[tensor([[61]]), 'max', 'partition s_phone']\n",
            "{'customer': 'c_nation', 'dim_date': 'd_holidayfl', 'lineorder': 'lo_linenumber', 'supplier': 's_phone'}\n",
            "{'customer': 0, 'dim_date': 0, 'lineorder': 0, 'part': 1, 'supplier': 0}\n",
            "[-0.70422324]\n",
            "[tensor([[61]]), 'max', 'partition s_phone']\n",
            "{'customer': 'c_nation', 'dim_date': 'd_holidayfl', 'lineorder': 'lo_linenumber', 'supplier': 's_phone'}\n",
            "{'customer': 0, 'dim_date': 0, 'lineorder': 0, 'part': 1, 'supplier': 0}\n",
            "[-0.70422324]\n",
            "[tensor([[61]]), 'max', 'partition s_phone']\n",
            "{'customer': 'c_nation', 'dim_date': 'd_holidayfl', 'lineorder': 'lo_linenumber', 'supplier': 's_phone'}\n",
            "{'customer': 0, 'dim_date': 0, 'lineorder': 0, 'part': 1, 'supplier': 0}\n",
            "[-0.70422324]\n",
            "[tensor([[61]]), 'max', 'partition s_phone']\n",
            "{'customer': 'c_nation', 'dim_date': 'd_holidayfl', 'lineorder': 'lo_linenumber', 'supplier': 's_phone'}\n",
            "{'customer': 0, 'dim_date': 0, 'lineorder': 0, 'part': 1, 'supplier': 0}\n",
            "[-0.70422324]\n",
            "[tensor([[61]]), 'max', 'partition s_phone']\n",
            "{'customer': 'c_nation', 'dim_date': 'd_holidayfl', 'lineorder': 'lo_linenumber', 'supplier': 's_phone'}\n",
            "{'customer': 0, 'dim_date': 0, 'lineorder': 0, 'part': 1, 'supplier': 0}\n"
          ]
        }
      ],
      "source": [
        "for idx,ps in enumerate(ps_cache[19]):\n",
        "  print(reward_cache[19][idx])\n",
        "  print(action_cache[19][idx])\n",
        "  display(ps)\n",
        "  print(repl_cache[19][idx])"
      ]
    },
    {
      "cell_type": "markdown",
      "metadata": {
        "id": "gjjCINDD5GuY"
      },
      "source": [
        "# Inference Engine"
      ]
    },
    {
      "cell_type": "code",
      "execution_count": null,
      "metadata": {
        "id": "S9pghEJ05GR_"
      },
      "outputs": [],
      "source": [
        "def inference(policy_net,db_env,t_max,greedy=True):\n",
        "    reward_cache=[]\n",
        "    ps_cache=[]\n",
        "    replicate_tbl_cache=[]\n",
        "    db_env.reset()\n",
        "    current_state =db_env.get_current_state()\n",
        "    state_set=[]\n",
        "    action_cache=[]\n",
        "    for iter in range(t_max):\n",
        "        # print(len(current_state))\n",
        "        # output=policy_net(torch.FloatTensor(current_state))\n",
        "        # action= output.max(1)[1].view(1, 1)\n",
        "        output=policy_net(torch.FloatTensor(current_state).unsqueeze(0)) # mask fact table replication\n",
        "        max_idx=torch.masked_select(output.squeeze(0), action_mask).max(0)[1]\n",
        "        kept_idx=action_mask.nonzero()\n",
        "        action= kept_idx[max_idx].view(1,1)  \n",
        "        \n",
        "        next_state,msg = db_env.step(action.item())\n",
        "        reward=cost_estimate(db_env,greedy)     \n",
        "        current_state=next_state\n",
        "        reward_cache.append(reward)\n",
        "        ps_cache.append(db_env.partition_scheme)\n",
        "        replicate_tbl_cache.append(db_env.replicated_table)\n",
        "        # print(np.where(np.array(current_state)==1))\n",
        "        state_set.append(current_state)\n",
        "        action_cache.append(action)\n",
        "    # print(len(set(state_set)))\n",
        "    max_idx=np.argmax(np.array(reward_cache))\n",
        "    # return ps_cache[max_idx],replicate_tbl_cache[max_idx]\n",
        "    return max_idx,ps_cache,replicate_tbl_cache,reward_cache,action_cache"
      ]
    },
    {
      "cell_type": "markdown",
      "metadata": {
        "id": "qtZkRmW5iDqD"
      },
      "source": [
        "## inference"
      ]
    },
    {
      "cell_type": "code",
      "execution_count": null,
      "metadata": {
        "id": "s39I8x2K5ccj"
      },
      "outputs": [],
      "source": [
        "max_idx,ps,replicate,rewards,actions=inference(enginee.policy_net,db_env,80,False)\n",
        "# print(replicate)\n",
        "# display(ps)"
      ]
    },
    {
      "cell_type": "code",
      "execution_count": null,
      "metadata": {
        "colab": {
          "base_uri": "https://localhost:8080/"
        },
        "id": "NV18plpwHL1z",
        "outputId": "b9c601d1-e15b-484a-8253-0a96bd823960"
      },
      "outputs": [
        {
          "name": "stdout",
          "output_type": "stream",
          "text": [
            "{'customer': 1, 'dim_date': 0, 'lineorder': 0, 'part': 1, 'supplier': 0}\n",
            "{'lineorder': 'lo_linenumber'}\n"
          ]
        }
      ],
      "source": [
        "print(replicate[max_idx])#100,80,10\n",
        "display(ps[max_idx])"
      ]
    },
    {
      "cell_type": "code",
      "execution_count": null,
      "metadata": {
        "id": "3VzjtJ02PdGA"
      },
      "outputs": [],
      "source": [
        "max_idx,ps,replicate,rewards,actions=inference(enginee.policy_net,db_env,80,False)\n",
        "# print(replicate)\n",
        "# display(ps)"
      ]
    },
    {
      "cell_type": "code",
      "execution_count": null,
      "metadata": {
        "colab": {
          "base_uri": "https://localhost:8080/"
        },
        "id": "2nhnzA-oPiQI",
        "outputId": "541dc3b0-a425-48f9-cc19-c79920dba980"
      },
      "outputs": [
        {
          "name": "stdout",
          "output_type": "stream",
          "text": [
            "{'customer': 0, 'dim_date': 0, 'lineorder': 0, 'part': 1, 'supplier': 0}\n",
            "{'customer': 'c_custkey', 'dim_date': 'd_datekey', 'lineorder': 'lo_custkey'}\n"
          ]
        }
      ],
      "source": [
        "print(replicate[max_idx])#150,80,10\n",
        "display(ps[max_idx])"
      ]
    },
    {
      "cell_type": "code",
      "execution_count": null,
      "metadata": {
        "colab": {
          "base_uri": "https://localhost:8080/"
        },
        "id": "KfFFNbjFRb_R",
        "outputId": "14129fe2-6e28-41e2-9041-12418a1e3456"
      },
      "outputs": [
        {
          "name": "stdout",
          "output_type": "stream",
          "text": [
            "{'customer': 0, 'dim_date': 1, 'lineorder': 0, 'part': 1, 'supplier': 0}\n",
            "{'customer': 'c_custkey', 'lineorder': 'lo_custkey', 'supplier': 's_suppkey'}\n"
          ]
        }
      ],
      "source": [
        "max_idx,ps,replicate,rewards,actions=inference(enginee.policy_net,db_env,80,False)\n",
        "print(replicate[max_idx]) #70,100,10\n",
        "display(ps[max_idx])"
      ]
    },
    {
      "cell_type": "markdown",
      "metadata": {},
      "source": [
        "### Check sequences returned from inference"
      ]
    },
    {
      "cell_type": "code",
      "execution_count": null,
      "metadata": {
        "colab": {
          "base_uri": "https://localhost:8080/"
        },
        "id": "qoRs20EItdS8",
        "outputId": "4b8a4a53-70b5-4799-9dfb-db1d32b2fbcc"
      },
      "outputs": [
        {
          "data": {
            "text/plain": [
              "[array([-0.99292331]),\n",
              " array([-0.99292331]),\n",
              " array([-0.69714654]),\n",
              " array([-0.34519245]),\n",
              " array([-0.34519245]),\n",
              " array([-0.34519245]),\n",
              " array([-0.34519245]),\n",
              " array([-0.34519245]),\n",
              " array([-0.34519245]),\n",
              " array([-0.34519245])]"
            ]
          },
          "execution_count": 118,
          "metadata": {},
          "output_type": "execute_result"
        }
      ],
      "source": [
        "rewards[:10]"
      ]
    },
    {
      "cell_type": "code",
      "execution_count": null,
      "metadata": {
        "colab": {
          "base_uri": "https://localhost:8080/"
        },
        "id": "QWrQcsl_orhk",
        "outputId": "b75cd9f0-c22e-4ffc-b013-6de54ee2c34c"
      },
      "outputs": [
        {
          "data": {
            "text/plain": [
              "[tensor([[0]]),\n",
              " tensor([[0]]),\n",
              " tensor([[65]]),\n",
              " tensor([[3]]),\n",
              " tensor([[55]]),\n",
              " tensor([[55]]),\n",
              " tensor([[55]]),\n",
              " tensor([[55]]),\n",
              " tensor([[55]]),\n",
              " tensor([[55]])]"
            ]
          },
          "execution_count": 119,
          "metadata": {},
          "output_type": "execute_result"
        }
      ],
      "source": [
        "actions[:10]"
      ]
    },
    {
      "cell_type": "code",
      "execution_count": null,
      "metadata": {
        "colab": {
          "base_uri": "https://localhost:8080/"
        },
        "id": "kgsuEZUhdT3D",
        "outputId": "5374cc53-e3f2-4bb8-a5ed-4263cc7ac35b"
      },
      "outputs": [
        {
          "data": {
            "text/plain": [
              "0"
            ]
          },
          "execution_count": 104,
          "metadata": {},
          "output_type": "execute_result"
        }
      ],
      "source": [
        "np.sum(np.where(rewards==np.array([-1]),1,0))"
      ]
    },
    {
      "cell_type": "code",
      "execution_count": null,
      "metadata": {
        "colab": {
          "base_uri": "https://localhost:8080/"
        },
        "id": "394gXw198OpM",
        "outputId": "e9b668bc-ffb3-4d12-e4b1-24fb7bbea15e"
      },
      "outputs": [
        {
          "name": "stdout",
          "output_type": "stream",
          "text": [
            "{'lineorder': 'lo_shipmode'}\n"
          ]
        }
      ],
      "source": [
        "# replicate[:10]\n",
        "display(ps[0])"
      ]
    },
    {
      "cell_type": "code",
      "execution_count": null,
      "metadata": {
        "colab": {
          "base_uri": "https://localhost:8080/"
        },
        "id": "5g1j4Hk_5xuR",
        "outputId": "ee624835-b8b1-49c1-9c7e-6044cbba0410"
      },
      "outputs": [
        {
          "data": {
            "text/plain": [
              "array([-0.35226915])"
            ]
          },
          "execution_count": 105,
          "metadata": {},
          "output_type": "execute_result"
        }
      ],
      "source": [
        "rewards[max_idx]"
      ]
    },
    {
      "cell_type": "code",
      "execution_count": null,
      "metadata": {
        "colab": {
          "base_uri": "https://localhost:8080/"
        },
        "id": "r-rkHBaKPpFw",
        "outputId": "fe6d0c13-e322-4783-d80c-f06dc998f987"
      },
      "outputs": [
        {
          "data": {
            "text/plain": [
              "array([-0.35226915])"
            ]
          },
          "execution_count": 109,
          "metadata": {},
          "output_type": "execute_result"
        }
      ],
      "source": [
        "rewards[max_idx]"
      ]
    },
    {
      "cell_type": "code",
      "execution_count": null,
      "metadata": {
        "colab": {
          "base_uri": "https://localhost:8080/"
        },
        "id": "SIEIXDiK6dug",
        "outputId": "1cd55365-9c64-4c90-fbb3-acdee8ed84c1"
      },
      "outputs": [
        {
          "data": {
            "text/plain": [
              "1"
            ]
          },
          "execution_count": 110,
          "metadata": {},
          "output_type": "execute_result"
        }
      ],
      "source": [
        "max_idx"
      ]
    },
    {
      "cell_type": "code",
      "execution_count": null,
      "metadata": {
        "colab": {
          "base_uri": "https://localhost:8080/"
        },
        "id": "ihgk8419lLxo",
        "outputId": "41435842-3c7b-4211-d2a9-655bb26c2430"
      },
      "outputs": [
        {
          "data": {
            "text/plain": [
              "100"
            ]
          },
          "execution_count": 142,
          "metadata": {},
          "output_type": "execute_result"
        }
      ],
      "source": [
        "len(rewards)"
      ]
    },
    {
      "cell_type": "code",
      "execution_count": null,
      "metadata": {
        "colab": {
          "base_uri": "https://localhost:8080/"
        },
        "id": "BHleyvmp6hsr",
        "outputId": "8b633ffe-c12b-45f9-864a-9b8de268ad6d"
      },
      "outputs": [
        {
          "data": {
            "text/plain": [
              "(array([-0.81468596]), array([-0.81468596]))"
            ]
          },
          "execution_count": 143,
          "metadata": {},
          "output_type": "execute_result"
        }
      ],
      "source": [
        "rewards[5],rewards[9]"
      ]
    },
    {
      "cell_type": "code",
      "execution_count": null,
      "metadata": {
        "colab": {
          "base_uri": "https://localhost:8080/"
        },
        "id": "4811CC1D6UPP",
        "outputId": "9daa42c7-2673-425c-ce8d-b50feb6731b9"
      },
      "outputs": [
        {
          "name": "stdout",
          "output_type": "stream",
          "text": [
            "{'customer': 0, 'dim_date': 0, 'lineorder': 0, 'part': 0, 'supplier': 0}\n",
            "{'customer': 'c_mktsegment'}\n",
            "[-1.86628206e-21]\n"
          ]
        }
      ],
      "source": [
        "print(replicate[3])\n",
        "display(ps[3])\n",
        "print(rewards[3])"
      ]
    }
  ],
  "metadata": {
    "colab": {
      "name": "DRL",
      "provenance": [],
      "toc_visible": true
    },
    "kernelspec": {
      "display_name": "Python 3",
      "name": "python3"
    },
    "language_info": {
      "name": "python",
      "version": "3.7.2"
    }
  },
  "nbformat": 4,
  "nbformat_minor": 0
}
