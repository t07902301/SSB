{
 "cells": [
  {
   "cell_type": "code",
   "execution_count": 60,
   "metadata": {},
   "outputs": [],
   "source": [
    "import gym\n",
    "import math\n",
    "import random\n",
    "import numpy as np\n",
    "from collections import namedtuple, deque\n",
    "from estimator import cost_estimate\n",
    "from env import env\n",
    "import torch\n",
    "import torch.nn as nn\n",
    "import torch.optim as optim\n",
    "device = torch.device(\"cuda\" if torch.cuda.is_available() else \"cpu\")\n",
    "def setup_seed(seed):\n",
    "  random.seed(seed)\n",
    "  torch.manual_seed(seed)\n",
    "  np.random.seed(seed)\n",
    "setup_seed(0)"
   ]
  },
  {
   "cell_type": "code",
   "execution_count": 61,
   "metadata": {},
   "outputs": [],
   "source": [
    "Transition = namedtuple('Transition',\n",
    "                        ('state', 'action', 'next_state', 'reward'))\n",
    "\n",
    "\n",
    "class ReplayMemory(object):\n",
    "\n",
    "    def __init__(self, capacity):\n",
    "        self.memory = deque([],maxlen=capacity)\n",
    "\n",
    "    def push(self, *args):\n",
    "        \"\"\"Save a transition\"\"\"\n",
    "        self.memory.append(Transition(*args))\n",
    "    def push_numpy(self, args):\n",
    "        # tensor_args = [torch.from_numpy(args[0])]\n",
    "        # tensor_args.append(args[1])\n",
    "        # tensor_args+=[torch.from_numpy(arg) for arg in args[2:]]\n",
    "        # print('tensor_args len:')\n",
    "        # print(len(tensor_args))\n",
    "        self.push(torch.from_numpy(args[0]),args[1],torch.from_numpy(args[2]),torch.from_numpy(args[3]))\n",
    "\n",
    "    def sample(self, batch_size):\n",
    "        return random.sample(self.memory, batch_size)\n",
    "\n",
    "    def __len__(self):\n",
    "        return len(self.memory)"
   ]
  },
  {
   "cell_type": "code",
   "execution_count": 62,
   "metadata": {},
   "outputs": [],
   "source": [
    "n_states=67\n",
    "n_actions=67\n",
    "class DQN(nn.Module):\n",
    "    def __init__(self):\n",
    "        super(DQN, self).__init__()\n",
    "        # self.flatten = nn.Flatten()\n",
    "        self.linear_relu_stack = nn.Sequential(\n",
    "            # nn.Linear(np.array(env.observation_space.shape).prod(), 128, bias=False),\n",
    "            nn.Linear(n_states, 128, bias=False),\n",
    "            nn.ReLU(),\n",
    "            nn.Linear(128, 64),\n",
    "            nn.ReLU(),\n",
    "            nn.Linear(64, n_actions),\n",
    "        )\n",
    "    def forward(self, x):\n",
    "        x = x.float()\n",
    "        logits = self.linear_relu_stack(x)\n",
    "        return logits"
   ]
  },
  {
   "cell_type": "code",
   "execution_count": 63,
   "metadata": {},
   "outputs": [],
   "source": [
    "BATCH_SIZE = 32\n",
    "GAMMA = 0.99\n",
    "EPS_START = 0.9\n",
    "EPS_END = 0.05\n",
    "EPS_DECAY = 0.997\n",
    "# EPS_DECAY = 200\n",
    "TARGET_UPDATE = 10\n",
    "learning_rate=5e-4\n",
    "# np.random.seed(0)\n",
    "\n",
    "\n",
    "policy_net=DQN().float().to(device)\n",
    "target_net=DQN().float().to(device)\n",
    "# policy_net=DQN().to(device)\n",
    "# target_net=DQN().to(device)\n",
    "target_net.load_state_dict(policy_net.state_dict())\n",
    "target_net.eval()\n",
    "\n",
    "optimizer = optim.Adam(policy_net.parameters(),learning_rate)\n",
    "memory = ReplayMemory(10000)\n",
    "\n",
    "mask_fact_table=[True]*67\n",
    "mask_fact_table[64]=False # not replicate lineorder\n",
    "action_mask=torch.from_numpy(np.array(mask_fact_table)).to(device=device) \n",
    "\n",
    "steps_done = 0\n",
    "def select_action(state):\n",
    "    global steps_done\n",
    "    sample = random.random()\n",
    "    eps_threshold = EPS_END + (EPS_START - EPS_END) * \\\n",
    "        math.exp(-1. * steps_done * EPS_DECAY)\n",
    "        # math.exp(-1. * steps_done / EPS_DECAY)\n",
    "\n",
    "    steps_done += 1\n",
    "    if sample > eps_threshold:\n",
    "        with torch.no_grad():\n",
    "            # t.max(1) will return largest column value of each row.\n",
    "            # second column on max result is index of where max element was\n",
    "            # found, so we pick action with the larger expected reward.\n",
    "\n",
    "            output=policy_net(torch.FloatTensor(state).unsqueeze(0)) # mask fact table replication\n",
    "            max_idx=torch.masked_select(output.squeeze(0), action_mask).max(0)[1]\n",
    "            kept_idx=action_mask.nonzero()\n",
    "            return kept_idx[max_idx].view(1,1)\n",
    "            # return policy_net(torch.FloatTensor(state).unsqueeze(0)).max(1)[1].view(1, 1)\n",
    "    else:\n",
    "        # output=torch.tensor([[random.randrange(2)]], device=device, dtype=torch.long)\n",
    "        # return  torch.masked_select(output.squeeze(0), action_mask)\n",
    "        return torch.tensor([[random.randrange(2)]], device=device, dtype=torch.long)\n"
   ]
  },
  {
   "cell_type": "code",
   "execution_count": 64,
   "metadata": {},
   "outputs": [
    {
     "data": {
      "text/plain": [
       "torch.Size([66, 1])"
      ]
     },
     "execution_count": 64,
     "metadata": {},
     "output_type": "execute_result"
    }
   ],
   "source": [
    "(action_mask.nonzero()).shape"
   ]
  },
  {
   "cell_type": "code",
   "execution_count": 65,
   "metadata": {},
   "outputs": [],
   "source": [
    "# def select_action_test(state):\n",
    "    \n",
    "#     mask_fact_table=[True]*67\n",
    "#     mask_fact_table[64]=False # not replicate lineorder\n",
    "#     action_mask=torch.from_numpy(np.array(mask_fact_table)).to(device=device) \n",
    "#     with torch.no_grad():\n",
    "#         # t.max(1) will return largest column value of each row.\n",
    "#         # second column on max result is index of where max element was\n",
    "#         # found, so we pick action with the larger expected reward.\n",
    "\n",
    "#         output=policy_net(torch.FloatTensor(state).unsqueeze(0))\n",
    "#         max_idx=torch.masked_select(output.squeeze(0), action_mask).max(0)[1]\n",
    "#         mapped=action_mask.nonzero()\n",
    "#         return mapped[max_idx].view(1,1)\n",
    "#         # return torch.masked_select(output.squeeze(0), action_mask)\n",
    "#         # return torch.masked_select(output.squeeze(0), action_mask).max(0)[1].view(1,1)\n",
    "#         # output=policy_net(torch.FloatTensor(state).unsqueeze(0))\n",
    "#         # return output\n",
    "# db_env=env()\n",
    "# action = select_action(db_env.get_current_state())"
   ]
  },
  {
   "cell_type": "code",
   "execution_count": 66,
   "metadata": {},
   "outputs": [],
   "source": [
    "def optimize_model():\n",
    "    if len(memory) < BATCH_SIZE:\n",
    "        return\n",
    "    transitions = memory.sample(BATCH_SIZE)\n",
    "    # Transpose the batch (see https://stackoverflow.com/a/19343/3343043 for\n",
    "    # detailed explanation). This converts batch-array of Transitions\n",
    "    # to Transition of batch-arrays.\n",
    "    batch = Transition(*zip(*transitions))\n",
    "    state_batch = torch.stack(batch.state).to(device=device)\n",
    "    action_batch = torch.stack(batch.action).to(device=device)\n",
    "    reward_batch = torch.stack(batch.reward).to(device=device)\n",
    "    next_batch=torch.stack(batch.next_state).to(device=device)\n",
    "    # Compute a mask of non-final states and concatenate the batch elements\n",
    "    # (a final state would've been the one after which simulation ended)\n",
    "    # non_final_mask = torch.tensor(tuple(map(lambda s: s is not None,\n",
    "    #                                       batch.next_state)), device=device, dtype=torch.bool)\n",
    "    # non_final_next_states = torch.cat([s for s in batch.next_state\n",
    "    #                                             if s is not None])\n",
    "\n",
    "\n",
    "    # Compute Q(s_t, a) - the model computes Q(s_t), then we select the\n",
    "    # columns of actions taken. These are the actions which would've been taken\n",
    "    # for each batch state according to policy_net\n",
    "    output = policy_net(state_batch)\n",
    "    # try:\n",
    "    #     output = policy_net(state_batch)\n",
    "    # except:\n",
    "    #     print(type(state_batch))\n",
    "    action_values=output[torch.arange(output.size(0)), action_batch]\n",
    "    # action_values = output.gather(1, action_batch)\n",
    "    state_action_values=action_values\n",
    "    # state_action_values = policy_net(state_batch).gather(1, action_batch)\n",
    "\n",
    "    # try:\n",
    "    #     state_action_values = policy_net(state_batch).gather(1, action_batch)\n",
    "    # except:\n",
    "    #     print(state_batch.shape,action_batch.shape)\n",
    "    #     exit()\n",
    "\n",
    "    # Compute V(s_{t+1}) for all next states.\n",
    "    # Expected values of actions for non_final_next_states are computed based\n",
    "    # on the \"older\" target_net; selecting their best reward with max(1)[0].\n",
    "    # This is merged based on the mask, such that we'll have either the expected\n",
    "    # state value or 0 in case the state was final.\n",
    "    next_state_values= target_net(next_batch).max(1)[0].detach()\n",
    "\n",
    "    # next_state_values = torch.zeros(BATCH_SIZE, device=device)\n",
    "    # try:\n",
    "    #     next_state_values[non_final_mask] = target_net(non_final_next_states).max(1)[0].detach()\n",
    "    # except:\n",
    "    #     # print(batch.next_state.shape)\n",
    "    #     print(len(batch.next_state))\n",
    "    #     exit()\n",
    "    # next_state_values[non_final_mask] = target_net(non_final_next_states).max(1)[0].detach()\n",
    "    # Compute the expected Q values\n",
    "    expected_state_action_values = (next_state_values * GAMMA) + reward_batch\n",
    "\n",
    "    # Compute Huber loss\n",
    "    criterion = nn.SmoothL1Loss()\n",
    "    loss = criterion(state_action_values, expected_state_action_values.unsqueeze(1))\n",
    "\n",
    "    # Optimize the model\n",
    "    optimizer.zero_grad()\n",
    "    loss.backward()\n",
    "    for param in policy_net.parameters():\n",
    "        param.grad.data.clamp_(-1, 1)\n",
    "    optimizer.step()"
   ]
  },
  {
   "cell_type": "code",
   "execution_count": 67,
   "metadata": {},
   "outputs": [
    {
     "name": "stdout",
     "output_type": "stream",
     "text": [
      "episode batch 0 completed\n",
      "episode batch 1 completed\n",
      "episode batch 2 completed\n",
      "episode batch 3 completed\n",
      "episode batch 4 completed\n",
      "episode batch 5 completed\n",
      "episode batch 6 completed\n",
      "episode batch 7 completed\n",
      "episode batch 8 completed\n",
      "episode batch 9 completed\n",
      "Complete\n"
     ]
    }
   ],
   "source": [
    "num_episodes = 100 #600\n",
    "t_max=20\n",
    "# TARGET_UPDATE = 10e-3\n",
    "TARGET_UPDATE = 10\n",
    "from env import env\n",
    "\n",
    "db_env=env()\n",
    "\n",
    "for i_episode in range(num_episodes):\n",
    "    # Initialize the environment and state\n",
    "    db_env.reset()\n",
    "    current_state =db_env.get_current_state()\n",
    "    for t in range(t_max):\n",
    "        # Select and perform an action\n",
    "        # TODO reduce actions when generating or stepping\n",
    "        action = select_action(current_state)\n",
    "\n",
    "        # try:\n",
    "        #     next_state = db_env.step(action.item())\n",
    "        # except IndexError as e:\n",
    "        #     print(action.item())\n",
    "        next_state = db_env.step(action.item())\n",
    "        \n",
    "        reward=cost_estimate(db_env)\n",
    "\n",
    "        # Store the transition in memory\n",
    "        memory.push_numpy((current_state, action, next_state, reward))\n",
    "\n",
    "        # # Move to the next state\n",
    "        current_state = next_state\n",
    "\n",
    "        # Perform one step of the optimization (on the policy network)\n",
    "        optimize_model()\n",
    "    # # Update the target network, copying all weights and biases in DQN\n",
    "    if i_episode % TARGET_UPDATE == 0:\n",
    "        target_net.load_state_dict(policy_net.state_dict())\n",
    "        print('episode batch {} completed'.format(i_episode//TARGET_UPDATE))\n",
    "\n",
    "    # params=(1-TARGET_UPDATE)*np.array(list(target_net.state_dict().values()))+TARGET_UPDATE*np.array(list(policy_net.state_dict().values()))\n",
    "    # tmp_dict=target_net.state_dict()\n",
    "    # dict_keys=list(tmp_dict.keys())\n",
    "    # for idx,key in enumerate(dict_keys):\n",
    "    #     tmp_dict[key]=params[idx]\n",
    "    # target_net.load_state_dict(tmp_dict)\n",
    "print('Complete')"
   ]
  },
  {
   "cell_type": "code",
   "execution_count": 68,
   "metadata": {},
   "outputs": [],
   "source": [
    "def inference(q_network):\n",
    "    reward_cache=[]\n",
    "    ps_cache=[]\n",
    "    replicate_tbl_cache=[]\n",
    "    db_env.reset()\n",
    "    current_state =db_env.get_current_state()\n",
    "    for iter in range(t_max):\n",
    "        # action= q_network(torch.FloatTensor(current_state).unsqueeze(0)).max(1)[1].view(1, 1)\n",
    "        output=policy_net(torch.FloatTensor(current_state).unsqueeze(0)) # mask fact table replication\n",
    "        max_idx=torch.masked_select(output.squeeze(0), action_mask).max(0)[1]\n",
    "        kept_idx=action_mask.nonzero()\n",
    "        action= kept_idx[max_idx].view(1,1)  \n",
    "        \n",
    "        next_state = db_env.step(action.item())\n",
    "        reward=cost_estimate(db_env)     \n",
    "        current_state=next_state\n",
    "        reward_cache.append(reward)\n",
    "        ps_cache.append(db_env.partition_scheme)\n",
    "        replicate_tbl_cache.append(db_env.replicated_table)\n",
    "    max_idx=np.argmax(np.array(reward_cache))\n",
    "    return ps_cache[max_idx],replicate_tbl_cache[max_idx]"
   ]
  },
  {
   "cell_type": "code",
   "execution_count": 69,
   "metadata": {},
   "outputs": [],
   "source": [
    "ps,replicate=inference(policy_net)"
   ]
  },
  {
   "cell_type": "code",
   "execution_count": 70,
   "metadata": {},
   "outputs": [],
   "source": [
    "def display(scheme):\n",
    "    ret_dict={}\n",
    "    for table,values in scheme.items():\n",
    "        for attr,val in values.items():\n",
    "            if val==1:\n",
    "                ret_dict[table]=attr\n",
    "                break\n",
    "    print(ret_dict)"
   ]
  },
  {
   "cell_type": "code",
   "execution_count": 71,
   "metadata": {},
   "outputs": [
    {
     "name": "stdout",
     "output_type": "stream",
     "text": [
      "{'customer': 0, 'dim_date': 0, 'lineorder': 0, 'part': 1, 'supplier': 1}\n"
     ]
    }
   ],
   "source": [
    "# print(ps)\n",
    "print(replicate)"
   ]
  },
  {
   "cell_type": "code",
   "execution_count": 72,
   "metadata": {},
   "outputs": [
    {
     "name": "stdout",
     "output_type": "stream",
     "text": [
      "{'customer': 'c_city', 'dim_date': 'd_datekey', 'lineorder': 'lo_orderdate'}\n"
     ]
    }
   ],
   "source": [
    "display(ps)"
   ]
  },
  {
   "cell_type": "code",
   "execution_count": 73,
   "metadata": {},
   "outputs": [],
   "source": [
    "# db_env.db_config"
   ]
  }
 ],
 "metadata": {
  "interpreter": {
   "hash": "be0b56fde7ab4dd5a7b857b05c420f1624be72fede588761e7b5d962331e4a2a"
  },
  "kernelspec": {
   "display_name": "Python 3.7.2 64-bit ('venv_ids': venv)",
   "language": "python",
   "name": "python3"
  },
  "language_info": {
   "codemirror_mode": {
    "name": "ipython",
    "version": 3
   },
   "file_extension": ".py",
   "mimetype": "text/x-python",
   "name": "python",
   "nbconvert_exporter": "python",
   "pygments_lexer": "ipython3",
   "version": "3.7.2"
  },
  "orig_nbformat": 4
 },
 "nbformat": 4,
 "nbformat_minor": 2
}
